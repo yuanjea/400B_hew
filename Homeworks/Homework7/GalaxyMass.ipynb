{
 "cells": [
  {
   "cell_type": "code",
   "execution_count": 1,
   "metadata": {
    "collapsed": true
   },
   "outputs": [],
   "source": [
    "# Homework 3 Solutions\n",
    "# Computing the Mass of the Local Group\n",
    "# G. Besla"
   ]
  },
  {
   "cell_type": "code",
   "execution_count": 2,
   "metadata": {},
   "outputs": [],
   "source": [
    "# import necessary modules\n",
    "# numpy provides powerful multi-dimensional arrays to hold and manipulate data\n",
    "import numpy as np\n",
    "# astropy provides unit system for astronomical calculations\n",
    "import astropy.units as u\n",
    "# import previous HW functions\n",
    "from ReadFile import Read\n"
   ]
  },
  {
   "cell_type": "markdown",
   "metadata": {},
   "source": [
    "# Galaxy Mass"
   ]
  },
  {
   "cell_type": "code",
   "execution_count": 3,
   "metadata": {
    "collapsed": true
   },
   "outputs": [],
   "source": [
    "\n",
    "def ComponentMass(filename, PType):\n",
    "# function to compute the mass of all particles of a given type for a given galaxy \n",
    "# input:  filename (str) ,  Particle type (1,2,3)\n",
    "# output: Mass in units of 1e12 Msun. \n",
    "    \n",
    "     # read in the file \n",
    "    time, total, data = Read(filename)\n",
    "    \n",
    "      # gather particles with the same type and sum up the mass\n",
    "    # we can directly round the result and adjust the units\n",
    "    mass = np.round(data[data['type']==PType]['m'].sum() * 1e10/1e12, 3)\n",
    "    \n",
    "    # return the mass \n",
    "    return mass"
   ]
  },
  {
   "cell_type": "code",
   "execution_count": 5,
   "metadata": {},
   "outputs": [],
   "source": [
    "# MW Mass\n",
    "MW_halo = ComponentMass(\"MW_000.txt\",1)\n",
    "MW_disk = ComponentMass(\"MW_000.txt\",2)\n",
    "MW_bulge = ComponentMass(\"MW_000.txt\",3)"
   ]
  },
  {
   "cell_type": "code",
   "execution_count": 13,
   "metadata": {},
   "outputs": [
    {
     "name": "stdout",
     "output_type": "stream",
     "text": [
      "MW halo Mass: 1.975 x 10^12 Msun\n",
      "MW disk Mass: 0.075 x 10^12 Msun\n",
      "MW bulge Mass: 0.010 x 10^12 Msun\n"
     ]
    }
   ],
   "source": [
    "print(f\"MW halo Mass: {MW_halo:.3f} x 10^12 Msun\") \n",
    "print(f\"MW disk Mass: {MW_disk:.3f} x 10^12 Msun\")\n",
    "print(f\"MW bulge Mass: {MW_bulge:.3f} x 10^12 Msun\")"
   ]
  },
  {
   "cell_type": "code",
   "execution_count": 15,
   "metadata": {},
   "outputs": [
    {
     "name": "stdout",
     "output_type": "stream",
     "text": [
      "Total MW Mass: 2.060 x 10^12 Msun\n"
     ]
    }
   ],
   "source": [
    "# Total MW mass\n",
    "TotalMW = MW_halo + MW_disk + MW_bulge\n",
    "print(f\"Total MW Mass: {TotalMW:.3f} x 10^12 Msun\")"
   ]
  },
  {
   "cell_type": "code",
   "execution_count": 16,
   "metadata": {
    "collapsed": true
   },
   "outputs": [],
   "source": [
    "# M31 Mass\n",
    "M31_halo = ComponentMass(\"M31_000.txt\",1)\n",
    "M31_disk = ComponentMass(\"M31_000.txt\",2)\n",
    "M31_bulge = ComponentMass(\"M31_000.txt\",3)"
   ]
  },
  {
   "cell_type": "code",
   "execution_count": 17,
   "metadata": {},
   "outputs": [
    {
     "name": "stdout",
     "output_type": "stream",
     "text": [
      "M31 halo Mass: 1.921 x 10^12 Msun\n",
      "M31 disk Mass: 0.120 x 10^12 Msun\n",
      "M31 bulge Mass: 0.019 x 10^12 Msun\n"
     ]
    }
   ],
   "source": [
    "print(f\"M31 halo Mass: {M31_halo:.3f} x 10^12 Msun\") \n",
    "print(f\"M31 disk Mass: {M31_disk:.3f} x 10^12 Msun\")\n",
    "print(f\"M31 bulge Mass: {M31_bulge:.3f} x 10^12 Msun\")"
   ]
  },
  {
   "cell_type": "code",
   "execution_count": 19,
   "metadata": {},
   "outputs": [
    {
     "name": "stdout",
     "output_type": "stream",
     "text": [
      "Total M31 Mass: 2.060 x 10^12 Msun\n"
     ]
    }
   ],
   "source": [
    "# Total M31 Mass\n",
    "TotalM31 = M31_halo + M31_disk + M31_bulge\n",
    "print(f\"Total M31 Mass: {TotalM31:.3f} x 10^12 Msun\")"
   ]
  },
  {
   "cell_type": "code",
   "execution_count": 20,
   "metadata": {
    "collapsed": true
   },
   "outputs": [],
   "source": [
    "# M33 Mass\n",
    "M33_halo = ComponentMass(\"M33_000.txt\",1)\n",
    "M33_disk = ComponentMass(\"M33_000.txt\",2)"
   ]
  },
  {
   "cell_type": "code",
   "execution_count": 21,
   "metadata": {},
   "outputs": [
    {
     "name": "stdout",
     "output_type": "stream",
     "text": [
      "M33 halo Mass: 0.187 x 10^12 Msun\n",
      "M33 disk Mass: 0.009 x 10^12 Msun\n"
     ]
    }
   ],
   "source": [
    "print(f\"M33 halo Mass: {M33_halo:.3f} x 10^12 Msun\") \n",
    "print(f\"M33 disk Mass: {M33_disk:.3f} x 10^12 Msun\")"
   ]
  },
  {
   "cell_type": "code",
   "execution_count": 22,
   "metadata": {},
   "outputs": [
    {
     "name": "stdout",
     "output_type": "stream",
     "text": [
      "Total M33 Mass: 0.196 x 10^12 Msun\n"
     ]
    }
   ],
   "source": [
    "# Total M33 Mass\n",
    "TotalM33 = M33_halo + M33_disk\n",
    "print(f\"Total M33 Mass: {TotalM33:.3f} x 10^12 Msun\")"
   ]
  },
  {
   "cell_type": "code",
   "execution_count": 23,
   "metadata": {},
   "outputs": [
    {
     "name": "stdout",
     "output_type": "stream",
     "text": [
      "Total Local Group Mass: 4.316 x 10^12 Msun\n"
     ]
    }
   ],
   "source": [
    "# Total Local Group Mass\n",
    "TotalLG  = TotalMW + TotalM31 + TotalM33\n",
    "print(f\"Total Local Group Mass: {TotalLG:.3f} x 10^12 Msun\")\n"
   ]
  },
  {
   "cell_type": "code",
   "execution_count": null,
   "metadata": {
    "collapsed": true
   },
   "outputs": [],
   "source": []
  }
 ],
 "metadata": {
  "kernelspec": {
   "display_name": "Python 3",
   "language": "python",
   "name": "python3"
  },
  "language_info": {
   "codemirror_mode": {
    "name": "ipython",
    "version": 3
   },
   "file_extension": ".py",
   "mimetype": "text/x-python",
   "name": "python",
   "nbconvert_exporter": "python",
   "pygments_lexer": "ipython3",
   "version": "3.7.4"
  }
 },
 "nbformat": 4,
 "nbformat_minor": 2
}
