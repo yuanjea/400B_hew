{
 "cells": [
  {
   "cell_type": "code",
   "execution_count": 1,
   "metadata": {
    "collapsed": true
   },
   "outputs": [],
   "source": [
    "# Homework 4 Solutions\n",
    "# Center ofMass Position and Velocity\n",
    "# G. Besla,  E. Patel & R. Li"
   ]
  },
  {
   "cell_type": "code",
   "execution_count": 1,
   "metadata": {
    "collapsed": true
   },
   "outputs": [],
   "source": [
    "# import modules\n",
    "import numpy as np\n",
    "# astropy provides unit system for astronomical calculations\n",
    "import astropy.units as u\n",
    "# astropy also offer a module for showinng results in a table\n",
    "import astropy.table as tbl\n",
    "# import previous HW functions\n",
    "from ReadFile import Read"
   ]
  },
  {
   "cell_type": "code",
   "execution_count": 16,
   "metadata": {
    "collapsed": true
   },
   "outputs": [],
   "source": [
    "class CenterOfMass:\n",
    "    \"\"\" Hold the COM position & velocity of a galaxy at a given snapshot \"\"\"\n",
    "\n",
    "    \n",
    "    \n",
    "    def __init__(self, filename, ptype):\n",
    "        \"\"\" Initialize this class with relevant data \"\"\"\n",
    "    \n",
    "        # read in the file                                                                                             \n",
    "        self.time, self.total, self.data = Read(filename)\n",
    "        #print(self.time)                                                                                              \n",
    "\n",
    "        #create an array to store indexes of particles of desired Ptype                                                \n",
    "        self.index = np.where(self.data['type'] == ptype)\n",
    "\n",
    "        # store the mass, positions, velocities of only the particles of the given type                                \n",
    "        self.m = self.data['m'][self.index]\n",
    "        self.x = self.data['x'][self.index]\n",
    "        self.y = self.data['y'][self.index]\n",
    "        self.z = self.data['z'][self.index]\n",
    "        self.vx = self.data['vx'][self.index]\n",
    "        self.vy = self.data['vy'][self.index]\n",
    "        self.vz = self.data['vz'][self.index]\n",
    "\n",
    "\n",
    "\n",
    "    def COMdefine(self,a,b,c,m):\n",
    "    # Function to compute the center of mass position or velocity generically                                          \n",
    "    # input: array (a,b,c) of positions or velocities and the mass                                                     \n",
    "    # returns: 3 floats  (the center of mass coordinates)                                                              \n",
    "\n",
    "        # note: since all particles have the same                                                                      \n",
    "        # mass, when we consider only one type,                                                                             \n",
    "        # the below is equivalently np.sum(x)/len(x)                                                                   \n",
    "\n",
    "        # xcomponent Center of mass                                                                                    \n",
    "        Acom = np.sum(a*m)/np.sum(m)\n",
    "        # ycomponent Center of mass                                                                                    \n",
    "        Bcom = np.sum(b*m)/np.sum(m)\n",
    "        # zcomponent                                                                                                   \n",
    "        Ccom = np.sum(c*m)/np.sum(m)\n",
    "        return Acom, Bcom, Ccom\n",
    "    \n",
    "    \n",
    "    def COM_P(self, delta):\n",
    "        \"\"\" Iteratively determine the COM position \"\"\"\n",
    "    # input:                                                                                                           \n",
    "    #        delta (tolerance)                                                                                         \n",
    "    # returns: One vector, with rows indicating:                                                                                                                                                                            \n",
    "    #       3D coordinates of the center of mass position (kpc)                                                             \n",
    "\n",
    "\n",
    "\n",
    "        # Center of Mass Position                                                                                      \n",
    "        ###########################                                                                                    \n",
    "\n",
    "        # Try a first guess at the COM position by calling COMdefine                                                   \n",
    "        XCOM, YCOM, ZCOM = self.COMdefine(self.x,self.y,self.z,self.m)\n",
    "        # compute the magnitude of the COM position vector.                                                            \n",
    "        RCOM = np.sqrt(XCOM**2 + YCOM**2 + ZCOM**2)\n",
    "        # print('init R', RCOM)                                                                                        \n",
    "\n",
    "\n",
    "        # iterative process to determine the center of mass                                                            \n",
    "\n",
    "        # change reference frame to COM frame                                                                          \n",
    "        # compute the difference between particle coordinates                                                          \n",
    "        # and the first guess at COM position                                                                          \n",
    "        xNew = self.x - XCOM\n",
    "        yNew = self.y - YCOM\n",
    "        zNew = self.z - ZCOM\n",
    "        RNEW = np.sqrt(xNew**2.0 + yNew**2.0 +zNew**2.0)\n",
    "\n",
    "        # find the max 3D distance of all particles from the guessed COM                                               \n",
    "        # will re-start at half that radius (reduced radius)                                                           \n",
    "        RMAX = max(RNEW)/2.0\n",
    "        \n",
    "        # pick an initial estimate for the change in COM position                                                      \n",
    "        # between the first guess above and the new one computed from half that volume.                                \n",
    "        CHANGE = 1000.0\n",
    "\n",
    "        # start iterative process to determine center of mass position                                                 \n",
    "        # delta is the tolerance for the difference in the old COM and the new one.    \n",
    "        \n",
    "        while (CHANGE > delta):\n",
    "          # select all particles within the reduced radius (starting from original x,y,z, m)                         \n",
    "            index2 = np.where(RNEW < RMAX)\n",
    "            x2 = self.x[index2]\n",
    "            y2 = self.y[index2]\n",
    "            z2 = self.z[index2]\n",
    "            m2 = self.m[index2]\n",
    "\n",
    "            # Refined COM position:                                                                                    \n",
    "            # compute the center of mass position using                                                                \n",
    "            # the particles in the reduced radius                                                                      \n",
    "            XCOM2, YCOM2, ZCOM2 = self.COMdefine(x2,y2,z2,m2)\n",
    "            # compute the new 3D COM position                                                                          \n",
    "            RCOM2 = np.sqrt(XCOM2**2 + YCOM2**2 + ZCOM2**2)\n",
    "\n",
    "            # determine the difference between the previous center of mass position                                    \n",
    "            # and the new one.                                                                                         \n",
    "            CHANGE = np.abs(RCOM - RCOM2)\n",
    "            # check this                                                                                               \n",
    "            # print (\"DIFF\", diff)                                                                                     \n",
    "\n",
    "            # Before loop continues, reset : RMAX, particle separations and COM                                        \n",
    "\n",
    "            # reduce the volume by a factor of 2 again                                                                 \n",
    "            RMAX = RMAX/2.0\n",
    "            # check this.                                                                                              \n",
    "            #print (\"maxR\", maxR)                                                                                      \n",
    "\n",
    "          # Change the frame of reference to the newly computed COM.                                                 \n",
    "            # subtract the new COM                                                                                     \n",
    "            xNew = self.x - XCOM2\n",
    "            yNew = self.y - YCOM2\n",
    "            zNew = self.z - ZCOM2\n",
    "            RNEW = np.sqrt(xNew**2 + yNew**2 + zNew**2)\n",
    "\n",
    "\n",
    "\n",
    "            # set the center of mass positions to the refined values                                                   \n",
    "            XCOM = XCOM2\n",
    "            YCOM = YCOM2\n",
    "            ZCOM = ZCOM2\n",
    "            RCOM = RCOM2\n",
    "\n",
    "            # create a vector to store the COM position                                                                \n",
    "                                                                                                 \n",
    "            COMP = [XCOM,YCOM,ZCOM]\n",
    "\n",
    "        # return the COM positon vector\n",
    "        # set the correct units using astropy                                                                      \n",
    "        # round all values \n",
    "        return np.round(COMP,2)*u.kpc\n",
    "    \n",
    "    \n",
    "\n",
    "    def COM_V(self, COMX,COMY,COMZ):\n",
    "        \"\"\" Return the COM velocity based on the COM position \"\"\"\n",
    "        # input: X, Y, Z positions of the COM\n",
    "        # returns 3D Vector of COM Velocities\n",
    "        \n",
    "        # the max distance from the center that we will use to determine the center of mass velocity                   \n",
    "        RVMAX = 15.0*u.kpc\n",
    "\n",
    "        # determine the position of all particles relative to the center of mass position                              \n",
    "        xV = self.x[:]*u.kpc - COMX\n",
    "        yV = self.y[:]*u.kpc - COMY\n",
    "        zV = self.z[:]*u.kpc - COMZ\n",
    "        RV = np.sqrt(xV**2 + yV**2 + zV**2)\n",
    "        \n",
    "        # determine the index for those particles within the max radius                                                \n",
    "        indexV = np.where(RV < RVMAX)\n",
    "\n",
    "        # determine the velocity and mass of those particles within the mas radius                                     \n",
    "        vxnew = self.vx[indexV]\n",
    "        vynew = self.vy[indexV]\n",
    "        vznew = self.vz[indexV]\n",
    "        mnew = self.m[indexV]\n",
    "\n",
    "        # compute the center of mass velocity using those particles                                                    \n",
    "        VXCOM, VYCOM, VZCOM = self.COMdefine(vxnew,vynew,vznew, mnew)\n",
    "\n",
    "        # create a vector to store the COM velocity                                                                    \n",
    "        # set the correct units usint astropy                                                                          \n",
    "        # round all values                                                                                             \n",
    "        COMV = [VXCOM,VYCOM,VZCOM] \n",
    "\n",
    "        # return the COM vector  \n",
    "        # set the correct units using astropy                                                                          \n",
    "        # round all values   \n",
    "        return np.round(COMV,2)*u.km/u.s\n",
    "\n",
    "\n"
   ]
  },
  {
   "cell_type": "code",
   "execution_count": 8,
   "metadata": {
    "collapsed": true
   },
   "outputs": [],
   "source": [
    "# Create  a Center of mass object for the MW, M31 and M33                                                              \n",
    "MW_COM = CenterOfMass(\"MW_000.txt\", 2)\n",
    "M31_COM = CenterOfMass(\"M31_000.txt\", 2)\n",
    "M33_COM = CenterOfMass(\"M33_000.txt\", 2)"
   ]
  },
  {
   "cell_type": "code",
   "execution_count": 9,
   "metadata": {
    "collapsed": true
   },
   "outputs": [],
   "source": [
    "# MW:   store the position and velocity COM                                                                            \n",
    "MW_COM_P = MWCOM.COM_P(0.1)\n",
    "MW_COM_V = MWCOM.COM_V(MW_COM_P[0],MW_COM_P[1],MW_COM_P[2])\n",
    "\n",
    "# M31:   store the position and velocity COM                                                                           \n",
    "M31_COM_P = M31COM.COM_P(0.1)\n",
    "M31_COM_V = M31COM.COM_V(M31_COM_P[0],M31_COM_P[1],M31_COM_P[2])\n",
    "\n",
    "\n",
    "# M33:   store the position and velocity COM                                                                           \n",
    "M33_COM_P = M33COM.COM_P(0.1)\n",
    "M33_COM_V = M33COM.COM_V(M33_COM_P[0],M33_COM_P[1],M33_COM_P[2])\n",
    "\n"
   ]
  },
  {
   "cell_type": "code",
   "execution_count": 13,
   "metadata": {},
   "outputs": [
    {
     "data": {
      "text/html": [
       "&lt;Table length=3&gt;\n",
       "<table id=\"table4746280296-11855\" class=\"table-striped table-bordered table-condensed\">\n",
       "<thead><tr><th>idx</th><th>Galaxy</th><th>X-component (kpc)</th><th>Y-Component (kpc)</th><th>Z-Component (kpc)</th><th>VX-component (km/s)</th><th>VY-Component (km/s)</th><th>VZ-Component (km/s)</th></tr></thead>\n",
       "<tr><td>0</td><td>MW COM</td><td>-2.07</td><td>2.95</td><td>-1.45</td><td>0.94</td><td>6.32</td><td>-1.35</td></tr>\n",
       "<tr><td>1</td><td>M31 COM</td><td>-377.66</td><td>611.43</td><td>-284.64</td><td>72.85</td><td>-72.14</td><td>49.0</td></tr>\n",
       "<tr><td>2</td><td>M33 COM</td><td>-476.22</td><td>491.44</td><td>-412.4</td><td>44.42</td><td>101.78</td><td>142.23</td></tr>\n",
       "</table><style>table.dataTable {clear: both; width: auto !important; margin: 0 !important;}\n",
       ".dataTables_info, .dataTables_length, .dataTables_filter, .dataTables_paginate{\n",
       "display: inline-block; margin-right: 1em; }\n",
       ".paginate_button { margin-right: 5px; }\n",
       "</style>\n",
       "<script>\n",
       "\n",
       "var astropy_sort_num = function(a, b) {\n",
       "    var a_num = parseFloat(a);\n",
       "    var b_num = parseFloat(b);\n",
       "\n",
       "    if (isNaN(a_num) && isNaN(b_num))\n",
       "        return ((a < b) ? -1 : ((a > b) ? 1 : 0));\n",
       "    else if (!isNaN(a_num) && !isNaN(b_num))\n",
       "        return ((a_num < b_num) ? -1 : ((a_num > b_num) ? 1 : 0));\n",
       "    else\n",
       "        return isNaN(a_num) ? -1 : 1;\n",
       "}\n",
       "\n",
       "require.config({paths: {\n",
       "    datatables: 'https://cdn.datatables.net/1.10.12/js/jquery.dataTables.min'\n",
       "}});\n",
       "require([\"datatables\"], function(){\n",
       "    console.log(\"$('#table4746280296-11855').dataTable()\");\n",
       "    \n",
       "jQuery.extend( jQuery.fn.dataTableExt.oSort, {\n",
       "    \"optionalnum-asc\": astropy_sort_num,\n",
       "    \"optionalnum-desc\": function (a,b) { return -astropy_sort_num(a, b); }\n",
       "});\n",
       "\n",
       "    $('#table4746280296-11855').dataTable({\n",
       "        order: [],\n",
       "        pageLength: 50,\n",
       "        lengthMenu: [[10, 25, 50, 100, 500, 1000, -1], [10, 25, 50, 100, 500, 1000, 'All']],\n",
       "        pagingType: \"full_numbers\",\n",
       "        columnDefs: [{targets: [0], type: \"optionalnum\"}]\n",
       "    });\n",
       "});\n",
       "</script>\n"
      ],
      "text/plain": [
       "<IPython.core.display.HTML object>"
      ]
     },
     "execution_count": 13,
     "metadata": {},
     "output_type": "execute_result"
    }
   ],
   "source": [
    "# Making the Table of Results\n",
    "\n",
    "# we first gather all results and put them into a numpy array\n",
    "# *tuple() will extract the tuple, kind of like C-language\n",
    "tab_results = ['MW COM', *tuple(MW_COM_P.value), *tuple(MW_COM_V.value), \n",
    "               'M31 COM', *tuple(M31_COM_P.value), *tuple(M31_COM_V.value), \n",
    "               'M33 COM', *tuple(M33_COM_P.value), *tuple(M33_COM_V.value)]\n",
    "tab_results = np.reshape(tab_results, (3, 7)) # convert 1D array to 2D\n",
    "\n",
    "# make and display the table with astropy\n",
    "t = tbl.Table(tab_results, \n",
    "              names = ['Galaxy', 'X-component (kpc)', 'Y-Component (kpc)', \n",
    "                       'Z-Component (kpc)','VX-component (km/s)', \n",
    "                       'VY-Component (km/s)', 'VZ-Component (km/s)'])\n",
    "t.show_in_notebook()"
   ]
  },
  {
   "cell_type": "code",
   "execution_count": 14,
   "metadata": {},
   "outputs": [
    {
     "name": "stdout",
     "output_type": "stream",
     "text": [
      "Separation between the MW and M31 = 769.0 kpc\n",
      "Relative Velocity between the MW and M31 = 118.0 km / s\n"
     ]
    }
   ],
   "source": [
    "# Q2 \n",
    "# Determine the separation between the MW and M31                                                                      \n",
    "MW_M31 = np.sqrt((M31_COM_P[0]-MW_COM_P[0])**2 + (M31_COM_P[1]-MW_COM_P[1])**2 + (M31_COM_P[2]-MW_COM_P[2])**2)\n",
    "print(\"Separation between the MW and M31 =\", np.round(MW_M31))\n",
    "\n",
    "# Determine the relative velocity between the MW and M31                                                                      \n",
    "vMW_M31 = np.sqrt((M31_COM_V[0]-MW_COM_V[0])**2 + (M31_COM_V[1]-MW_COM_V[1])**2 + (M31_COM_V[2]-MW_COM_V[2])**2)\n",
    "print(\"Relative Velocity between the MW and M31 =\", np.round(vMW_M31))\n"
   ]
  },
  {
   "cell_type": "code",
   "execution_count": 15,
   "metadata": {},
   "outputs": [
    {
     "name": "stdout",
     "output_type": "stream",
     "text": [
      "Relative Position between M33 and M31 =  201.0 kpc\n",
      "Relative Velocity between M33 and M31 =  199.0 km / s\n"
     ]
    }
   ],
   "source": [
    "# Q3\n",
    "# Determine the relative position between M33 and M31                                                                  \n",
    "M33_M31 = np.sqrt((M33_COM_P[0]-M31_COM_P[0])**2 + (M33_COM_P[1]-M31_COM_P[1])**2 + (M33_COM_P[2]-M31_COM_P[2])**2)\n",
    "print(\"Relative Position between M33 and M31 = \", np.round(M33_M31))\n",
    "\n",
    "\n",
    "# Determine the relative velocity between M33 and M31                                                                  \n",
    "vM33_M31 = np.sqrt((M33_COM_V[0]-M31_COM_V[0])**2 + (M33_COM_V[1]-M31_COM_V[1])**2 + (M33_COM_V[2]-M31_COM_V[2])**2)\n",
    "print(\"Relative Velocity between M33 and M31 = \", np.round(vM33_M31))\n"
   ]
  },
  {
   "cell_type": "markdown",
   "metadata": {
    "collapsed": true
   },
   "source": [
    "Q4:  The iterative procedue is necessary because as galaxies interact their stars get thrown to large radii with different speeds. Tidal tails are not spherically symmetric; this can cause the COM position calculation to be really off if you are using all the particles at large radii. "
   ]
  }
 ],
 "metadata": {
  "kernelspec": {
   "display_name": "Python 3",
   "language": "python",
   "name": "python3"
  },
  "language_info": {
   "codemirror_mode": {
    "name": "ipython",
    "version": 3
   },
   "file_extension": ".py",
   "mimetype": "text/x-python",
   "name": "python",
   "nbconvert_exporter": "python",
   "pygments_lexer": "ipython3",
   "version": "3.6.5"
  }
 },
 "nbformat": 4,
 "nbformat_minor": 2
}
