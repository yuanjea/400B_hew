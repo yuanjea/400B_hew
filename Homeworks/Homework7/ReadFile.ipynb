{
 "cells": [
  {
   "cell_type": "code",
   "execution_count": 3,
   "metadata": {},
   "outputs": [],
   "source": [
    "# Homework 2\n",
    "# Jan 30 2020\n",
    "# G Besla\n",
    "\n",
    "# Load Modules\n",
    "import numpy as np\n",
    "import astropy.units as u"
   ]
  },
  {
   "cell_type": "code",
   "execution_count": 4,
   "metadata": {},
   "outputs": [],
   "source": [
    "# Define a function that will read in a file\n",
    "# USAGE :   time, total, data = Read(\"filename\")\n",
    "def Read(filename):\n",
    "# Input:  filename, e.g. \"MW_000.txt\"\n",
    "# Returns:  time (in Myr), total number of particles \n",
    "#           and an array with data\n",
    "    \n",
    "    # open the file \n",
    "    file = open(filename,'r')\n",
    "    \n",
    "    #read header info line by line (line will be a string)\n",
    "    # read first two lines FIRST and store as variable\n",
    "    \n",
    "    # read and store time\n",
    "    line1 = file.readline()\n",
    "    label, value = line1.split()\n",
    "    time = float(value)*u.Myr\n",
    "\n",
    "    # read and store total number of particles\n",
    "    line2 = file.readline()\n",
    "    label, value = line2.split()\n",
    "    total = float(value)\n",
    "    \n",
    "    # close file\n",
    "    file.close()\n",
    "\n",
    "    # read the remainder of the file, \n",
    "    # \"dtype=None\" specifies data type. None is default float\n",
    "    # default delimiter is line is split using white spaces\n",
    "    # \"skip_header=3\"  skipping the first 3 lines \n",
    "    # the flag \"names=True\" creates arrays to store the date\n",
    "    #       with the column headers given in line 4 like \"m\", \"x\"\n",
    "    \n",
    "    data = np.genfromtxt(filename,dtype=None,names=True,skip_header=3)\n",
    "    \n",
    "    # Note, another option is loadtxt, skipping the first 3 rows.  \n",
    "    # data = np.loadtxt(filename,skiprows=3)\n",
    "    # But this loses the information in the headers\n",
    "    \n",
    "    # this will return the time of the snapshot, \n",
    "    #total number of particles \n",
    "    #and an array that stores the remainder of the data. \n",
    "    return time, total, data"
   ]
  },
  {
   "cell_type": "markdown",
   "metadata": {},
   "source": [
    "Checking to see if the code works:"
   ]
  },
  {
   "cell_type": "code",
   "execution_count": 5,
   "metadata": {},
   "outputs": [],
   "source": [
    "time, total, data =Read(\"MW_000.txt\")"
   ]
  },
  {
   "cell_type": "code",
   "execution_count": 6,
   "metadata": {},
   "outputs": [
    {
     "data": {
      "text/latex": [
       "$0 \\; \\mathrm{Myr}$"
      ],
      "text/plain": [
       "<Quantity 0. Myr>"
      ]
     },
     "execution_count": 6,
     "metadata": {},
     "output_type": "execute_result"
    }
   ],
   "source": [
    "time"
   ]
  },
  {
   "cell_type": "code",
   "execution_count": 7,
   "metadata": {},
   "outputs": [
    {
     "data": {
      "text/plain": [
       "135000.0"
      ]
     },
     "execution_count": 7,
     "metadata": {},
     "output_type": "execute_result"
    }
   ],
   "source": [
    "total"
   ]
  },
  {
   "cell_type": "code",
   "execution_count": 8,
   "metadata": {},
   "outputs": [
    {
     "data": {
      "text/latex": [
       "$39498500 \\; \\mathrm{M_{\\odot}}$"
      ],
      "text/plain": [
       "<Quantity 39498500.00000001 solMass>"
      ]
     },
     "execution_count": 8,
     "metadata": {},
     "output_type": "execute_result"
    }
   ],
   "source": [
    "#Mass of first particle, if you used loadgenfromtxt\n",
    "data['m'][0]*u.Msun*1e10"
   ]
  },
  {
   "cell_type": "code",
   "execution_count": 21,
   "metadata": {},
   "outputs": [
    {
     "data": {
      "text/latex": [
       "$39498500 \\; \\mathrm{M_{\\odot}}$"
      ],
      "text/plain": [
       "<Quantity 39498500.00000001 solMass>"
      ]
     },
     "execution_count": 21,
     "metadata": {},
     "output_type": "execute_result"
    }
   ],
   "source": [
    "# if you used loadtxt, first store the mass of all particles in a new array\n",
    "# i.e. store the 2nd column\n",
    "#Mass = data[:,1]\n",
    "# Print the Mass of the first particle\n",
    "#Mass[0]*u.Msun*1e10"
   ]
  },
  {
   "cell_type": "code",
   "execution_count": 9,
   "metadata": {},
   "outputs": [
    {
     "data": {
      "text/plain": [
       "1.0"
      ]
     },
     "execution_count": 9,
     "metadata": {},
     "output_type": "execute_result"
    }
   ],
   "source": [
    "# Type of first particle\n",
    "data['type'][0]"
   ]
  },
  {
   "cell_type": "code",
   "execution_count": null,
   "metadata": {},
   "outputs": [],
   "source": []
  }
 ],
 "metadata": {
  "kernelspec": {
   "display_name": "Python 3",
   "language": "python",
   "name": "python3"
  },
  "language_info": {
   "codemirror_mode": {
    "name": "ipython",
    "version": 3
   },
   "file_extension": ".py",
   "mimetype": "text/x-python",
   "name": "python",
   "nbconvert_exporter": "python",
   "pygments_lexer": "ipython3",
   "version": "3.6.5"
  }
 },
 "nbformat": 4,
 "nbformat_minor": 2
}
