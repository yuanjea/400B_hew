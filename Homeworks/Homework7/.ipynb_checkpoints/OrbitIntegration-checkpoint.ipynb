{
 "cells": [
  {
   "cell_type": "code",
   "execution_count": 1,
   "metadata": {},
   "outputs": [],
   "source": [
    "# ASTR400B -- Homework 7\n",
    "# YuanJea Hew"
   ]
  },
  {
   "cell_type": "code",
   "execution_count": 4,
   "metadata": {
    "scrolled": true
   },
   "outputs": [],
   "source": [
    "# import modules\n",
    "import numpy as np\n",
    "import astropy.units as u\n",
    "from astropy.constants import G\n",
    "\n",
    "# Modules from previous homework\n",
    "from ReadFile import Read"
   ]
  },
  {
   "cell_type": "code",
   "execution_count": 6,
   "metadata": {},
   "outputs": [],
   "source": [
    "# Gravitational Constant value\n",
    "# as a Global Variable\n",
    "G = 4.498768e-6"
   ]
  },
  {
   "cell_type": "code",
   "execution_count": null,
   "metadata": {},
   "outputs": [],
   "source": [
    "class M33AnalyticOrbit:\n",
    "    # Class to defne\n",
    "    \n",
    "    def __init__(self, filename):\n",
    "    # Initialize the instance of this Class with the following properties:\n",
    "    # filename : filename for the file in which to store in the integrated orbit \n",
    "        \n",
    "        # read in the file                                                                                             \n",
    "        self.time, self.total, self.data = Read(self.filename)\n",
    "        \n",
    "        #create an array to store indexes of disk particles (ptype =2)                                                \n",
    "        self.index = np.where(self.data['type'] == 2)\n",
    "\n",
    "        # store the mass, positions, velocities of disk particles        \n",
    "        self.x = self.data['x'][self.index]\n",
    "        self.y = self.data['y'][self.index]\n",
    "        self.z = self.data['z'][self.index]\n",
    "        self.vx = self.data['vx'][self.index]\n",
    "        self.vy = self.data['vy'][self.index]\n",
    "        self.vz = self.data['vz'][self.index]\n",
    "        \n",
    "        # Scale Lengths and Masses for each component in M31\n",
    "        self.rdisk = 5*u.kpc\n",
    "        self.Mdisk = 0.12e12*u.Msun\n",
    "        \n",
    "        self.rbulge = 1*u.kpc\n",
    "        self.Mbulge = 0.019e12*u.Msun\n",
    "        \n",
    "        self.rhalo = 62*u.kpc #????????????\n",
    "        self.Mhalo = 1.921e12*u.Msun\n",
    "    \n",
    "    def HernquistAccel(self,M,r_a,x,y,z):\n",
    "        # Function to compute the Gravitational Acceleration Vector of M31\n",
    "        # This function wil be used for both Halo and Bulge of M31\n",
    "        # Inputs:\n",
    "        #        M is the Total Halo and Bulge Mass \n",
    "        #        r_a is the corresponding Scale Length \n",
    "        #        x, y, z are the positions of M31 Halo and Bulge\n",
    "        # Returns:\n",
    "        #        Acceleration vector from a Hernquist Potential\n",
    "        \n",
    "        r = np.sqrt(x**2 + y**2 + z**2)\n",
    "        \n",
    "        return -G*M/(r(r_a + r)**2)\n",
    "    \n",
    "    def MiyamotoNagaiAccel(self,M,rd,x,y,z):\n",
    "        # Function to compute Disk Acceleration Vector of M31\n",
    "        # Inputs:\n",
    "        #        M is the Disk Mass \n",
    "        #        rd is the corresponding Scale Length   \n",
    "        #        x, y, z are the positions of M31 Disk\n",
    "        # Returns:\n",
    "        #        Acceleration vector from a Miyamoto-Nagai Profile\n",
    "        \n",
    "        zd = self.rdisk/5.0\n",
    "        R = np.sqrt(x**2 + y**2)\n",
    "        B = rd + np.sqrt(z**2 + zd**2\n",
    "                    \n",
    "        ax = -G*M*x/(R**2 + B**2)**1.5\n",
    "        ay = -G*M*y/(R**2 + B**2)**1.5\n",
    "        az = G*M*B*z/((R**2 + B**2)**1.5)*np.sqrt(z**2 + zd**2)\n",
    "                         \n",
    "        return [ax, ay, az]\n",
    "                             \n",
    "    def M31Accel():                     \n",
    "        "
   ]
  }
 ],
 "metadata": {
  "kernelspec": {
   "display_name": "Python 3",
   "language": "python",
   "name": "python3"
  },
  "language_info": {
   "codemirror_mode": {
    "name": "ipython",
    "version": 3
   },
   "file_extension": ".py",
   "mimetype": "text/x-python",
   "name": "python",
   "nbconvert_exporter": "python",
   "pygments_lexer": "ipython3",
   "version": "3.7.4"
  }
 },
 "nbformat": 4,
 "nbformat_minor": 2
}
