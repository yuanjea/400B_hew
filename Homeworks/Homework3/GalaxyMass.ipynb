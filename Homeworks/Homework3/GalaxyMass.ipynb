{
 "cells": [
  {
   "cell_type": "code",
   "execution_count": 1,
   "metadata": {},
   "outputs": [],
   "source": [
    "import numpy as np\n",
    "import astropy.units as u\n",
    "from ReadFile import Read # need this to call ReadFile.py later in ComponentMass function"
   ]
  },
  {
   "cell_type": "code",
   "execution_count": 2,
   "metadata": {},
   "outputs": [],
   "source": [
    "# Function will return the total mass of desired galaxy component\n",
    "\n",
    "def ComponentMass(filename,ptype):\n",
    "    # Inputs:\n",
    "    #   filename is the desired file (MW_000.txt, M31_000.txt, M33_000.txt)\n",
    "    #   ptype is the particle type (1)Halo (2)Disk (3)Bulge\n",
    "    # Returns:\n",
    "    #   M, the total mass of the desired galaxy component\n",
    "    \n",
    "    time, total, data = Read(filename) # calling Read functionn from Readfile.py\n",
    "    \n",
    "    index = np.where(data['type'] == ptype) # indexing the desired particle type from the file\n",
    "    \n",
    "    a = ((data[index]['m'])/(1e2))*u.Msun # Indexing the mass from the data set and dividing it by 1e2 to get them in units of 10**12 solMass\n",
    "    \n",
    "    b = np.sum(a) # sum the entire data set for the specific particle type\n",
    "    \n",
    "    c = np.around(b,3) # round the summed value in 3 decimal places\n",
    "    \n",
    "    return c # return the value c which is the total mass of the desired galaxy component"
   ]
  },
  {
   "cell_type": "code",
   "execution_count": 3,
   "metadata": {
    "scrolled": true
   },
   "outputs": [
    {
     "name": "stdout",
     "output_type": "stream",
     "text": [
      "Total Mass of Dark Matter in Milky Way: \n",
      " 1.975 solMass\n",
      "Total Mass of Dark Matter in M31: \n",
      " 1.921 solMass\n",
      "Total Mass of Dark Matter in M33: \n",
      " 0.187 solMass\n"
     ]
    }
   ],
   "source": [
    "# Compute the Total Halo Mass of the Milky Way Galaxy \n",
    "Mtot_MW = ComponentMass('MW_000.txt',1) \n",
    "\n",
    "# Compute the Total Halo Mass of the M31 Galaxy \n",
    "Mtot_M31 = ComponentMass('M31_000.txt',1)\n",
    "\n",
    "# Compute the Total Halo Mass of the M33 Galaxy \n",
    "Mtot_M33 = ComponentMass('M33_000.txt',1)\n",
    "\n",
    "print('Total Mass of Dark Matter in Milky Way: \\n', Mtot_MW)\n",
    "print('Total Mass of Dark Matter in M31: \\n', Mtot_M31)\n",
    "print('Total Mass of Dark Matter in M33: \\n', Mtot_M33)"
   ]
  },
  {
   "cell_type": "code",
   "execution_count": 4,
   "metadata": {},
   "outputs": [
    {
     "name": "stdout",
     "output_type": "stream",
     "text": [
      "Total Mass of Disk Stars in Milky Way: \n",
      " 0.075 solMass\n",
      "Total Mass of Disk Stars in M31: \n",
      " 0.12 solMass\n",
      "Total Mass of Disk Stars in M33: \n",
      " 0.009 solMass\n"
     ]
    }
   ],
   "source": [
    "# Compute the Total Disk Mass of the Milky Way Galaxy \n",
    "Mtot_MW = ComponentMass('MW_000.txt',2)\n",
    "\n",
    "# Compute the Total Disk Mass of the Milky Way Galaxy \n",
    "Mtot_M31 = ComponentMass('M31_000.txt',2)\n",
    "\n",
    "# Compute the Total Disk Mass of the Milky Way Galaxy \n",
    "Mtot_M33 = ComponentMass('M33_000.txt',2)\n",
    "\n",
    "print('Total Mass of Disk Stars in Milky Way: \\n', Mtot_MW)\n",
    "print('Total Mass of Disk Stars in M31: \\n', Mtot_M31)\n",
    "print('Total Mass of Disk Stars in M33: \\n', Mtot_M33)"
   ]
  },
  {
   "cell_type": "code",
   "execution_count": 5,
   "metadata": {},
   "outputs": [
    {
     "name": "stdout",
     "output_type": "stream",
     "text": [
      "Total Mass of Bulge Stars in Milky Way: \n",
      " 0.01 solMass\n",
      "Total Mass of Bulge Stars in M31: \n",
      " 0.019 solMass\n",
      "Total Mass of Bulge Stars in M33: \n",
      " 0.0 solMass\n"
     ]
    }
   ],
   "source": [
    "# Compute the Total Bulge Mass of the Milky Way Galaxy \n",
    "Mtot_MW = ComponentMass('MW_000.txt',3)\n",
    "\n",
    "# Compute the Total Bulge Mass of the Milky Way Galaxy \n",
    "Mtot_M31 = ComponentMass('M31_000.txt',3)\n",
    "\n",
    "# Compute the Total Bulge Mass of the Milky Way Galaxy \n",
    "Mtot_M33 = ComponentMass('M33_000.txt',3)\n",
    "\n",
    "print('Total Mass of Bulge Stars in Milky Way: \\n', Mtot_MW)\n",
    "print('Total Mass of Bulge Stars in M31: \\n', Mtot_M31)\n",
    "print('Total Mass of Bulge Stars in M33: \\n', Mtot_M33)"
   ]
  }
 ],
 "metadata": {
  "kernelspec": {
   "display_name": "Python 3",
   "language": "python",
   "name": "python3"
  },
  "language_info": {
   "codemirror_mode": {
    "name": "ipython",
    "version": 3
   },
   "file_extension": ".py",
   "mimetype": "text/x-python",
   "name": "python",
   "nbconvert_exporter": "python",
   "pygments_lexer": "ipython3",
   "version": "3.7.4"
  }
 },
 "nbformat": 4,
 "nbformat_minor": 2
}
