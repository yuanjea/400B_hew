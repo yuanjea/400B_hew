{
 "cells": [
  {
   "cell_type": "code",
   "execution_count": 3,
   "metadata": {},
   "outputs": [],
   "source": [
    "# Homework 4\n",
    "# Center of Mass Position and Velocity\n",
    "# YuanJea Hew"
   ]
  },
  {
   "cell_type": "markdown",
   "metadata": {},
   "source": [
    "### Keep in mind this is just a template; you don't need to follow every step and feel free to change anything.\n",
    "### We also strongly encourage you to try to develop your own method to solve the homework."
   ]
  },
  {
   "cell_type": "code",
   "execution_count": 4,
   "metadata": {
    "ExecuteTime": {
     "end_time": "2020-02-04T23:59:21.657237Z",
     "start_time": "2020-02-04T23:59:21.653687Z"
    }
   },
   "outputs": [],
   "source": [
    "# import modules\n",
    "import numpy as np\n",
    "import astropy.units as u\n",
    "import astropy.table as tbl\n",
    "#import module to call Read function from ReadFile.py\n",
    "from ReadFile import Read"
   ]
  },
  {
   "cell_type": "code",
   "execution_count": 5,
   "metadata": {
    "ExecuteTime": {
     "end_time": "2020-02-04T23:59:24.003059Z",
     "start_time": "2020-02-04T23:59:23.979271Z"
    }
   },
   "outputs": [],
   "source": [
    "class CenterOfMass:\n",
    "# Class to define COM position and velocity properties of a given galaxy \n",
    "# and simulation snapshot\n",
    "    \n",
    "    \n",
    "    def __init__(self, filename, ptype):\n",
    "    # Initialize the instance of this Class with the following properties:\n",
    "    \n",
    "        # read data in the given file using Read\n",
    "        self.time, self.total, self.data = Read(filename)                                                                                             \n",
    "\n",
    "        #create an array to store indexes of particles of desired Ptype                                \n",
    "        self.index = np.where(self.data['type'] == ptype)\n",
    "\n",
    "        # store the mass, positions, velocities of only the particles of the given type\n",
    "        # the following only gives the example of storing the mass\n",
    "        self.m = self.data['m'][self.index]\n",
    "        # write your own code to complete this for positions and velocities\n",
    "        self.x = self.data['x'][self.index]\n",
    "        self.y = self.data['y'][self.index]\n",
    "        self.z = self.data['z'][self.index]\n",
    "        self.r = np.sqrt(self.x**2 + self.y**2 + self.z**2) # r**2 = x**2 + y**2 + z**2\n",
    "        self.vx = self.data['vx'][self.index]\n",
    "        self.vy = self.data['vy'][self.index]\n",
    "        self.vz = self.data['vz'][self.index]\n",
    "\n",
    "\n",
    "    def COMdefine(self,a,b,c,m):\n",
    "    # Function to compute the center of mass position or velocity generically\n",
    "    # input: array (a,b,c) of positions or velocities and the mass\n",
    "    # returns: 3 floats  (the center of mass coordinates)\n",
    "\n",
    "        # write your own code to compute the generic COM using Eq. 1 in the homework instructions\n",
    "        # Eqn 1\n",
    "        # Center of Mass for x-compnent = sigma(x*m)/sigma(m)\n",
    "        # Same applies for y and z component \n",
    "        \n",
    "        sum_m = np.sum(m) # summing the mass, sigma(m)\n",
    "        \n",
    "        # x-component Center of mass\n",
    "        xm = (a)*(m) # multiplying the mass with the x-component of position\n",
    "        sum_xm = np.sum(xm) # sigma(x*m)\n",
    "        Acom = (sum_xm)/sum_m # sigma(x*m)/sigma(m)\n",
    "        \n",
    "        # y-component Center of mass\n",
    "        ym = (b)*(m) # multiplying the mass with the y-component of position\n",
    "        sum_ym = np.sum(ym) # sigma(y*m)\n",
    "        Bcom = (sum_ym)/sum_m # sigma(y*m)/sigma(m)\n",
    "        \n",
    "        # z-component Center of mass\n",
    "        zm = (c)*(m) # multiplying the mass with the z-component of position\n",
    "        sum_zm = np.sum(zm) #sigma(z*m)\n",
    "        Ccom = (sum_zm)/sum_m # sigma(z*m)/sigma(m)\n",
    "        \n",
    "        return Acom, Bcom, Ccom\n",
    "    \n",
    "    \n",
    "    def COM_P(self, delta):\n",
    "    # Function to specifically return the center of mass position and velocity                                         \n",
    "    # input:                                                                                                           \n",
    "    #        particle type (1,2,3)                                                                                     \n",
    "    #        delta (tolerance)                                                                                         \n",
    "    # returns: One vector, with rows indicating:                                                                                                                                                                            \n",
    "    #       3D coordinates of the center of mass position (kpc)                                                             \n",
    "\n",
    "        # Center of Mass Position                                                                                      \n",
    "        ###########################                                                                                    \n",
    "\n",
    "        # Try a first guess at the COM position by calling COMdefine                                                   \n",
    "        XCOM, YCOM, ZCOM = self.COMdefine(self.x, self.y, self.z, self.m)\n",
    "        # compute the magnitude of the COM position vector.\n",
    "        # write your own code below\n",
    "        RCOM = np.sqrt(XCOM**2 + YCOM**2 + ZCOM**2)\n",
    "\n",
    "\n",
    "        # iterative process to determine the center of mass                                                            \n",
    "\n",
    "        # change reference frame to COM frame                                                                          \n",
    "        # compute the difference between particle coordinates                                                          \n",
    "        # and the first guess at COM position\n",
    "        # write your own code below\n",
    "        xNew = self.x - XCOM\n",
    "        yNew = self.y - YCOM\n",
    "        zNew = self.z - ZCOM\n",
    "        RNEW = np.sqrt(xNew**2 + yNew**2 + zNew**2)\n",
    "\n",
    "        # find the max 3D distance of all particles from the guessed COM                                               \n",
    "        # will re-start at half that radius (reduced radius)                                                           \n",
    "        RMAX = max(RNEW)/2.0\n",
    "        \n",
    "        # pick an initial value for the change in COM position                                                      \n",
    "        # between the first guess above and the new one computed from half that volume\n",
    "        # it should be larger than the input tolerance (delta) initially\n",
    "        CHANGE = 1000.0\n",
    "\n",
    "        # start iterative process to determine center of mass position                                                 \n",
    "        # delta is the tolerance for the difference in the old COM and the new one.    \n",
    "        \n",
    "        while (CHANGE > delta):\n",
    "            # select all particles within the reduced radius (starting from original x,y,z, m)\n",
    "            # write your own code below (hints, use np.where)\n",
    "            index2 = np.where(RNEW < RMAX)\n",
    "            x2 = self.x[index2]\n",
    "            y2 = self.y[index2]\n",
    "            z2 = self.z[index2]\n",
    "            r2 = np.sqrt(x2**2 + y2**2 + z2**2) # r**2 = x**2 + y**2 + z**2\n",
    "            m2 = self.m[index2]\n",
    "\n",
    "            # Refined COM position:                                                                                    \n",
    "            # compute the center of mass position using                                                                \n",
    "            # the particles in the reduced radius\n",
    "            # write your own code below\n",
    "            XCOM2, YCOM2, ZCOM2 = self.COMdefine(x2, y2, z2, m2)\n",
    "            # compute the new 3D COM position\n",
    "            # write your own code below\n",
    "            RCOM2 = np.sqrt(XCOM2**2 + YCOM2**2 + ZCOM2**2)\n",
    "\n",
    "            # determine the difference between the previous center of mass position                                    \n",
    "            # and the new one.                                                                                         \n",
    "            CHANGE = np.abs(RCOM - RCOM2)\n",
    "            # uncomment the following line if you wnat to check this                                                                                               \n",
    "            # print (\"CHANGE = \", CHANGE, RCOM2)                                                                                     \n",
    "\n",
    "            # Before loop continues, reset : RMAX, particle separations and COM                                        \n",
    "\n",
    "            # reduce the volume by a factor of 2 again                                                                 \n",
    "            RMAX = RMAX/2.0\n",
    "            # check this.                                                                                              \n",
    "            # print (\"maxR\", RMAX)                                                                                      \n",
    "\n",
    "            # Change the frame of reference to the newly computed COM.                                                 \n",
    "            # subtract the new COM\n",
    "            # write your own code below\n",
    "            # with respect to the original coordinate system \n",
    "            xNew = self.x - XCOM2\n",
    "            yNew = self.y - YCOM2\n",
    "            zNew = self.z - ZCOM2\n",
    "            RNEW = np.sqrt(xNew**2 + yNew**2 + zNew**2)\n",
    "\n",
    "            # set the center of mass positions to the refined values                                                   \n",
    "            XCOM = XCOM2\n",
    "            YCOM = YCOM2\n",
    "            ZCOM = ZCOM2\n",
    "            RCOM = RCOM2\n",
    "\n",
    "            # create a vector to store the COM position                                                                                                                                                       \n",
    "            COMP = [XCOM, YCOM, ZCOM]\n",
    "\n",
    "        # set the correct units using astropy and round all values\n",
    "        # and then return the COM positon vector\n",
    "        # write your own code below\n",
    "        a = COMP*u.kpc\n",
    "        b = np.around(a,2)\n",
    "        \n",
    "        return b\n",
    "    \n",
    "            \n",
    "    \n",
    "\n",
    "    def COM_V(self, COMX, COMY, COMZ):\n",
    "        # Center of Mass velocity\n",
    "        # input: X, Y, Z positions of the COM\n",
    "        # returns 3D Vector of COM Velocities\n",
    "        \n",
    "        # the max distance from the center that we will use to determine the center of mass velocity                   \n",
    "        RVMAX = 15.0*u.kpc\n",
    "\n",
    "        # determine the position of all particles relative to the center of mass position\n",
    "        # write your own code below\n",
    "        xV = self.x*u.kpc - COMX\n",
    "        yV = self.y*u.kpc - COMY\n",
    "        zV = self.z*u.kpc - COMZ\n",
    "        RV = np.sqrt(xV**2 + yV**2 + zV**2)\n",
    "        \n",
    "        # determine the index for those particles within the max radius\n",
    "        # write your own code below\n",
    "        indexV = np.where(RV < RVMAX) # ensuring the distance within \n",
    "\n",
    "        # determine the velocity and mass of those particles within the mas radius\n",
    "        # write your own code below\n",
    "        vxnew = self.vx[indexV]\n",
    "        vynew = self.vy[indexV]\n",
    "        vznew = self.vz[indexV]\n",
    "        mnew = self.m[indexV]\n",
    "        \n",
    "        # compute the center of mass velocity using those particles\n",
    "        # write your own code below\n",
    "        VXCOM, VYCOM, VZCOM = self.COMdefine(vxnew, vynew, vznew, mnew)\n",
    "\n",
    "        # create a vector to store the COM velocity\n",
    "        # set the correct units usint astropy\n",
    "        # round all values\n",
    "        # write your own code below\n",
    "        COMV = [VXCOM, VYCOM, VZCOM]\n",
    "        va = COMV*u.km/u.s\n",
    "        vb = np.around(va,2)\n",
    "\n",
    "        # return the COM vector                                                                                        \n",
    "        return vb"
   ]
  },
  {
   "cell_type": "code",
   "execution_count": 6,
   "metadata": {
    "ExecuteTime": {
     "end_time": "2020-02-04T23:59:30.160978Z",
     "start_time": "2020-02-04T23:59:26.220455Z"
    }
   },
   "outputs": [],
   "source": [
    "# Create a Center of mass object for the MW, M31 and M33\n",
    "# with ptype = 2 (Disk Stars)\n",
    "# below is an example of using the class for MW\n",
    "MWCOM = CenterOfMass(\"MW_000.txt\", 2)\n",
    "M31COM = CenterOfMass(\"M31_000.txt\", 2)\n",
    "M33COM = CenterOfMass(\"M33_000.txt\", 2)\n"
   ]
  },
  {
   "cell_type": "code",
   "execution_count": 7,
   "metadata": {
    "ExecuteTime": {
     "end_time": "2020-02-04T23:59:30.820428Z",
     "start_time": "2020-02-04T23:59:30.761163Z"
    },
    "scrolled": false
   },
   "outputs": [
    {
     "name": "stdout",
     "output_type": "stream",
     "text": [
      "COM of Milky Way:  [-2.07  2.95 -1.45] kpc\n",
      "COM of M31:  [-377.66  611.43 -284.64] kpc\n",
      "COM of M33:  [-476.22  491.44 -412.4 ] kpc\n",
      " \n",
      "COM Velocity of Milky Way:  [ 0.94  6.32 -1.35] km / s\n",
      "COM Velocity of M31:  [ 72.85 -72.14  49.  ] km / s\n",
      "COM Velocity of M33:  [ 44.42 101.78 142.23] km / s\n"
     ]
    }
   ],
   "source": [
    "# below gives you an example of calling the class's functions\n",
    "# MW:   store the position and velocity COM\n",
    "MW_COMP = MWCOM.COM_P(0.1)\n",
    "print(\"COM of Milky Way: \", MW_COMP)\n",
    "M31_COMP = M31COM.COM_P(0.1)\n",
    "print(\"COM of M31: \", M31_COMP)\n",
    "M33_COMP = M33COM.COM_P(0.1)\n",
    "print(\"COM of M33: \", M33_COMP)\n",
    "print(\" \")\n",
    "MW_COMV = MWCOM.COM_V(MW_COMP[0], MW_COMP[1], MW_COMP[2])\n",
    "print(\"COM Velocity of Milky Way: \", MW_COMV)\n",
    "M31_COMV = M31COM.COM_V(M31_COMP[0], M31_COMP[1], M31_COMP[2])\n",
    "print(\"COM Velocity of M31: \", M31_COMV)\n",
    "M33_COMV = M33COM.COM_V(M33_COMP[0], M33_COMP[1], M33_COMP[2])\n",
    "print(\"COM Velocity of M33: \", M33_COMV)"
   ]
  },
  {
   "cell_type": "code",
   "execution_count": 8,
   "metadata": {},
   "outputs": [
    {
     "name": "stdout",
     "output_type": "stream",
     "text": [
      "Magnitude of Milky Way COM:  3.8845720485016106 kpc\n",
      "Magnitude of M31 COM:  772.9771342672434 kpc\n",
      "Current Separation between the Milky Way and M31:  769.0925622187418 kpc\n",
      " \n",
      "Magintude of Milky Way COM Velocity:  6.530581903628497 km / s\n",
      "Magintude of M31 COM Velocity:  113.63231098591633 km / s\n",
      "Current Velocity between the Milky Way and M31:  107.10172908228783 km / s\n"
     ]
    }
   ],
   "source": [
    "# now write your own code to answer questions\n",
    "# Question 2\n",
    "# First, compute the magnitude of Milky Way and Andromeda \n",
    "# Magnitude = sqrt(XCOM**2 + YCOM**2 +ZCOM**2)\n",
    "# Using np.linalg.norm to achieve that \n",
    "mag_MW_COMP = (np.linalg.norm(MW_COMP))*u.kpc \n",
    "print(\"Magnitude of Milky Way COM: \", mag_MW_COMP)\n",
    "mag_M31_COMP = (np.linalg.norm(M31_COMP))*u.kpc\n",
    "print(\"Magnitude of M31 COM: \", mag_M31_COMP)\n",
    "#Computing the diffrence in the Center of Mass of both Milky way and M31 to get their current separation \n",
    "D_M31_MW = mag_M31_COMP - mag_MW_COMP \n",
    "print(\"Current Separation between the Milky Way and M31: \", D_M31_MW)\n",
    "\n",
    "print(\" \")\n",
    "\n",
    "#Using the same procedure to obtain the velocity between M33 and M31\n",
    "mag_MW_COMV = (np.linalg.norm(MW_COMV))*u.km/u.s\n",
    "print(\"Magintude of Milky Way COM Velocity: \", mag_MW_COMV)\n",
    "mag_M31_COMV = (np.linalg.norm(M31_COMV))*u.km/u.s\n",
    "print(\"Magintude of M31 COM Velocity: \", mag_M31_COMV)\n",
    "V_M31_MW = mag_M31_COMV - mag_MW_COMV \n",
    "print(\"Current Velocity between the Milky Way and M31: \", V_M31_MW)\n",
    "\n"
   ]
  },
  {
   "cell_type": "code",
   "execution_count": 9,
   "metadata": {},
   "outputs": [
    {
     "name": "stdout",
     "output_type": "stream",
     "text": [
      "Magnitude of M33 COM:  798.9821787749712 kpc\n",
      "Current Velocity between the M33 and M31:  26.005044507727803 kpc\n",
      " \n",
      "Magintude of M33 COM Velocity:  180.4485458517192 km / s\n",
      "Current Velocity between the Milky Way and M31:  66.81623486580285 km / s\n"
     ]
    }
   ],
   "source": [
    "# Question 3\n",
    "mag_M33_COMP = (np.linalg.norm(M33_COMP))*u.kpc \n",
    "print(\"Magnitude of M33 COM: \", mag_M33_COMP)\n",
    "D_M33_M31 = mag_M33_COMP - mag_M31_COMP \n",
    "print(\"Current Velocity between the M33 and M31: \", D_M33_M31)\n",
    "\n",
    "print(\" \")\n",
    "\n",
    "mag_M33_COMV = (np.linalg.norm(M33_COMV))*u.km/u.s\n",
    "print(\"Magintude of M33 COM Velocity: \", mag_M33_COMV)\n",
    "V_M33_M31 = mag_M33_COMV - mag_M31_COMV \n",
    "print(\"Current Velocity between the Milky Way and M31: \", V_M33_M31)\n",
    "\n",
    "\n"
   ]
  },
  {
   "cell_type": "code",
   "execution_count": 12,
   "metadata": {},
   "outputs": [],
   "source": [
    "#Question 4\n",
    "# Because we can find out the distance separation between both galaxies and their corresponding velocities in an accurate way with time.\n",
    "# With that, we can precisely simulate the merge of Milky Way and M31\n",
    "# Also, trace their position and velocity during that event "
   ]
  },
  {
   "cell_type": "code",
   "execution_count": null,
   "metadata": {},
   "outputs": [],
   "source": []
  }
 ],
 "metadata": {
  "kernelspec": {
   "display_name": "Python 3",
   "language": "python",
   "name": "python3"
  },
  "language_info": {
   "codemirror_mode": {
    "name": "ipython",
    "version": 3
   },
   "file_extension": ".py",
   "mimetype": "text/x-python",
   "name": "python",
   "nbconvert_exporter": "python",
   "pygments_lexer": "ipython3",
   "version": "3.7.4"
  },
  "varInspector": {
   "cols": {
    "lenName": 16,
    "lenType": 16,
    "lenVar": 40
   },
   "kernels_config": {
    "python": {
     "delete_cmd_postfix": "",
     "delete_cmd_prefix": "del ",
     "library": "var_list.py",
     "varRefreshCmd": "print(var_dic_list())"
    },
    "r": {
     "delete_cmd_postfix": ") ",
     "delete_cmd_prefix": "rm(",
     "library": "var_list.r",
     "varRefreshCmd": "cat(var_dic_list()) "
    }
   },
   "types_to_exclude": [
    "module",
    "function",
    "builtin_function_or_method",
    "instance",
    "_Feature"
   ],
   "window_display": false
  }
 },
 "nbformat": 4,
 "nbformat_minor": 2
}
