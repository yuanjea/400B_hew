{
 "cells": [
  {
   "cell_type": "markdown",
   "metadata": {},
   "source": [
    "# ASTR 400B\n",
    "## MW and M31 Halor Merger Remnant: Dark Matter Halo Density Evolution       \n",
    "\n",
    "Question 1: \n",
    "- 1.1: What is the final density profile ?\n",
    "- 1.2: Is it well fit by a Hernquist profile ?        \n",
    "- 1.3: Is it more or less concetrated than the MW or M31 before they merged ?\n"
   ]
  },
  {
   "cell_type": "markdown",
   "metadata": {},
   "source": [
    "# First Attempt on Code"
   ]
  },
  {
   "cell_type": "code",
   "execution_count": 1,
   "metadata": {},
   "outputs": [],
   "source": [
    "# import relevant modules\n",
    "import numpy as np\n",
    "import astropy.units as u\n",
    "import math \n",
    "\n",
    "\n",
    "# import plotting modules\n",
    "import matplotlib.pyplot as plt\n",
    "import matplotlib\n",
    "%matplotlib inline\n",
    "\n",
    "# my modules\n",
    "from ReadFile import Read\n",
    "from CenterOfMass import CenterOfMass\n",
    "from MassProfile import MassProfile"
   ]
  },
  {
   "cell_type": "markdown",
   "metadata": {},
   "source": [
    "1.1 What is the final density profile ?\n",
    "\n",
    "Plan: Locate the time of the merger event(6.5 Gyr from HW#6), identify the snapnumber corresponding to that time and onwards. Modify MassProfile function and CenterOfMass function in terms of MW+M31 merger "
   ]
  },
  {
   "cell_type": "code",
   "execution_count": 2,
   "metadata": {},
   "outputs": [],
   "source": [
    "# Create a mass profile object for the Merger using solution to Homework 5\n",
    "# MassProfile for MW and M31 Merger at 3 different stages \n",
    "\n",
    "# Before Collision\n",
    "MP_0 = MassProfile(\"MW\",\"M31\",0)\n",
    "# During Collision\n",
    "MP_1 = MassProfile(\"MW\",\"M31\",455)\n",
    "# After Collision \n",
    "MP_2 = MassProfile(\"MW\",\"M31\",801)"
   ]
  },
  {
   "cell_type": "code",
   "execution_count": 3,
   "metadata": {},
   "outputs": [],
   "source": [
    "# Define an arrya of radii from 0.1 kpc to 300 kpc in increments of 0.1\n",
    "R = np.arange(0.1,300,0.1)"
   ]
  },
  {
   "cell_type": "code",
   "execution_count": 4,
   "metadata": {
    "scrolled": false
   },
   "outputs": [
    {
     "ename": "UnitConversionError",
     "evalue": "Can only apply 'greater' function to dimensionless quantities when other argument is not a quantity (unless the latter is all zero/infinity/nan)",
     "output_type": "error",
     "traceback": [
      "\u001b[0;31m---------------------------------------------------------------------------\u001b[0m",
      "\u001b[0;31mUnitConversionError\u001b[0m                       Traceback (most recent call last)",
      "\u001b[0;32m<ipython-input-4-d89b654f8304>\u001b[0m in \u001b[0;36m<module>\u001b[0;34m\u001b[0m\n\u001b[1;32m      2\u001b[0m \u001b[0;34m\u001b[0m\u001b[0m\n\u001b[1;32m      3\u001b[0m \u001b[0;31m# Before Collision\u001b[0m\u001b[0;34m\u001b[0m\u001b[0;34m\u001b[0m\u001b[0;34m\u001b[0m\u001b[0m\n\u001b[0;32m----> 4\u001b[0;31m \u001b[0mMhalo_0\u001b[0m \u001b[0;34m=\u001b[0m \u001b[0mMP_0\u001b[0m\u001b[0;34m.\u001b[0m\u001b[0mMassEnclosed\u001b[0m\u001b[0;34m(\u001b[0m\u001b[0;36m1\u001b[0m\u001b[0;34m,\u001b[0m\u001b[0mR\u001b[0m\u001b[0;34m)\u001b[0m\u001b[0;34m\u001b[0m\u001b[0;34m\u001b[0m\u001b[0m\n\u001b[0m\u001b[1;32m      5\u001b[0m \u001b[0;31m# During Collision\u001b[0m\u001b[0;34m\u001b[0m\u001b[0;34m\u001b[0m\u001b[0;34m\u001b[0m\u001b[0m\n\u001b[1;32m      6\u001b[0m \u001b[0mMhalo_1\u001b[0m \u001b[0;34m=\u001b[0m \u001b[0mMP_1\u001b[0m\u001b[0;34m.\u001b[0m\u001b[0mMassEnclosed\u001b[0m\u001b[0;34m(\u001b[0m\u001b[0;36m1\u001b[0m\u001b[0;34m,\u001b[0m\u001b[0mR\u001b[0m\u001b[0;34m)\u001b[0m\u001b[0;34m\u001b[0m\u001b[0;34m\u001b[0m\u001b[0m\n",
      "\u001b[0;32m~/400B_hew/ResearchAssignment/ResearchAssignment5/MassProfile.py\u001b[0m in \u001b[0;36mMassEnclosed\u001b[0;34m(self, ptype, R)\u001b[0m\n\u001b[1;32m     93\u001b[0m         \u001b[0;32mfor\u001b[0m \u001b[0mi\u001b[0m \u001b[0;32min\u001b[0m \u001b[0mrange\u001b[0m\u001b[0;34m(\u001b[0m\u001b[0mnp\u001b[0m\u001b[0;34m.\u001b[0m\u001b[0msize\u001b[0m\u001b[0;34m(\u001b[0m\u001b[0mR\u001b[0m\u001b[0;34m)\u001b[0m\u001b[0;34m)\u001b[0m\u001b[0;34m:\u001b[0m\u001b[0;34m\u001b[0m\u001b[0;34m\u001b[0m\u001b[0m\n\u001b[1;32m     94\u001b[0m             \u001b[0;31m# Only want particles within the given radius\u001b[0m\u001b[0;34m\u001b[0m\u001b[0;34m\u001b[0m\u001b[0;34m\u001b[0m\u001b[0m\n\u001b[0;32m---> 95\u001b[0;31m             \u001b[0mindexR\u001b[0m \u001b[0;34m=\u001b[0m \u001b[0mnp\u001b[0m\u001b[0;34m.\u001b[0m\u001b[0mwhere\u001b[0m\u001b[0;34m(\u001b[0m\u001b[0mrG\u001b[0m \u001b[0;34m<\u001b[0m \u001b[0mR\u001b[0m\u001b[0;34m[\u001b[0m\u001b[0mi\u001b[0m\u001b[0;34m]\u001b[0m\u001b[0;34m*\u001b[0m\u001b[0mu\u001b[0m\u001b[0;34m.\u001b[0m\u001b[0mkpc\u001b[0m\u001b[0;34m)\u001b[0m\u001b[0;34m\u001b[0m\u001b[0;34m\u001b[0m\u001b[0m\n\u001b[0m\u001b[1;32m     96\u001b[0m             \u001b[0mMenc\u001b[0m\u001b[0;34m[\u001b[0m\u001b[0mi\u001b[0m\u001b[0;34m]\u001b[0m \u001b[0;34m=\u001b[0m \u001b[0mnp\u001b[0m\u001b[0;34m.\u001b[0m\u001b[0msum\u001b[0m\u001b[0;34m(\u001b[0m\u001b[0mmG\u001b[0m\u001b[0;34m[\u001b[0m\u001b[0mindexR\u001b[0m\u001b[0;34m]\u001b[0m\u001b[0;34m)\u001b[0m\u001b[0;34m*\u001b[0m\u001b[0;36m1e10\u001b[0m\u001b[0;34m\u001b[0m\u001b[0;34m\u001b[0m\u001b[0m\n\u001b[1;32m     97\u001b[0m \u001b[0;34m\u001b[0m\u001b[0m\n",
      "\u001b[0;32m~/anaconda3/lib/python3.7/site-packages/astropy/units/quantity.py\u001b[0m in \u001b[0;36m__array_ufunc__\u001b[0;34m(self, function, method, *inputs, **kwargs)\u001b[0m\n\u001b[1;32m    442\u001b[0m         \u001b[0;31m# consistent units between two inputs (e.g., in np.add) --\u001b[0m\u001b[0;34m\u001b[0m\u001b[0;34m\u001b[0m\u001b[0;34m\u001b[0m\u001b[0m\n\u001b[1;32m    443\u001b[0m         \u001b[0;31m# and the unit of the result (or tuple of units for nout > 1).\u001b[0m\u001b[0;34m\u001b[0m\u001b[0;34m\u001b[0m\u001b[0;34m\u001b[0m\u001b[0m\n\u001b[0;32m--> 444\u001b[0;31m         \u001b[0mconverters\u001b[0m\u001b[0;34m,\u001b[0m \u001b[0munit\u001b[0m \u001b[0;34m=\u001b[0m \u001b[0mconverters_and_unit\u001b[0m\u001b[0;34m(\u001b[0m\u001b[0mfunction\u001b[0m\u001b[0;34m,\u001b[0m \u001b[0mmethod\u001b[0m\u001b[0;34m,\u001b[0m \u001b[0;34m*\u001b[0m\u001b[0minputs\u001b[0m\u001b[0;34m)\u001b[0m\u001b[0;34m\u001b[0m\u001b[0;34m\u001b[0m\u001b[0m\n\u001b[0m\u001b[1;32m    445\u001b[0m \u001b[0;34m\u001b[0m\u001b[0m\n\u001b[1;32m    446\u001b[0m         \u001b[0mout\u001b[0m \u001b[0;34m=\u001b[0m \u001b[0mkwargs\u001b[0m\u001b[0;34m.\u001b[0m\u001b[0mget\u001b[0m\u001b[0;34m(\u001b[0m\u001b[0;34m'out'\u001b[0m\u001b[0;34m,\u001b[0m \u001b[0;32mNone\u001b[0m\u001b[0;34m)\u001b[0m\u001b[0;34m\u001b[0m\u001b[0;34m\u001b[0m\u001b[0m\n",
      "\u001b[0;32m~/anaconda3/lib/python3.7/site-packages/astropy/units/quantity_helper/converters.py\u001b[0m in \u001b[0;36mconverters_and_unit\u001b[0;34m(function, method, *args)\u001b[0m\n\u001b[1;32m    187\u001b[0m                             \u001b[0;34m\"argument is not a quantity (unless the \"\u001b[0m\u001b[0;34m\u001b[0m\u001b[0;34m\u001b[0m\u001b[0m\n\u001b[1;32m    188\u001b[0m                             \u001b[0;34m\"latter is all zero/infinity/nan)\"\u001b[0m\u001b[0;34m\u001b[0m\u001b[0;34m\u001b[0m\u001b[0m\n\u001b[0;32m--> 189\u001b[0;31m                             .format(function.__name__))\n\u001b[0m\u001b[1;32m    190\u001b[0m             \u001b[0;32mexcept\u001b[0m \u001b[0mTypeError\u001b[0m\u001b[0;34m:\u001b[0m\u001b[0;34m\u001b[0m\u001b[0;34m\u001b[0m\u001b[0m\n\u001b[1;32m    191\u001b[0m                 \u001b[0;31m# _can_have_arbitrary_unit failed: arg could not be compared\u001b[0m\u001b[0;34m\u001b[0m\u001b[0;34m\u001b[0m\u001b[0;34m\u001b[0m\u001b[0m\n",
      "\u001b[0;31mUnitConversionError\u001b[0m: Can only apply 'greater' function to dimensionless quantities when other argument is not a quantity (unless the latter is all zero/infinity/nan)"
     ]
    }
   ],
   "source": [
    "# Mass Profile of Halo\n",
    "\n",
    "# Before Collision\n",
    "Mhalo_0 = MP_0.MassEnclosed(1,R)\n",
    "# During Collision\n",
    "Mhalo_1 = MP_1.MassEnclosed(1,R)\n",
    "# After Collision\n",
    "Mhalo_2 = MP_2.MassEnclosed(1,R)"
   ]
  },
  {
   "cell_type": "markdown",
   "metadata": {},
   "source": [
    "1.2: Is it well fit by a Hernquist profile ?\n",
    "\n",
    "\n",
    "$\\rho(r) =  \\frac{M_{halo}}{2\\pi} \\frac{a}{r(r+a)^3} \\qquad M(r) =  \\frac{M_{halo} r^2}{(a+r)^2}$ "
   ]
  },
  {
   "cell_type": "code",
   "execution_count": null,
   "metadata": {},
   "outputs": [],
   "source": [
    "# From Lab 3:\n",
    "# Function that returns the Hernquist profile\n",
    "def Hernquist(r,a,Mhalo):\n",
    "# Input:  Radius (kpc), Hernquist Scale Length (kpc), Total Mass (1e12 Msun)\n",
    "# Defaults for scale length is 60 kpc, Default for Halo Mass is for MW from Assignment 3 \n",
    "# Returns: Density in units of Msun/kpc^3\n",
    "    return ((Mhalo*a)/(2*math.pi*r*(r+a)**3))"
   ]
  },
  {
   "cell_type": "code",
   "execution_count": null,
   "metadata": {},
   "outputs": [],
   "source": [
    "# Set Critical Density (rho_crit) as a Global Variable\n",
    "rho_crit = 1.617e2 # units of (Msun/kpc^3)"
   ]
  },
  {
   "cell_type": "code",
   "execution_count": null,
   "metadata": {},
   "outputs": [],
   "source": [
    "#From Lab 6:\n",
    "# Plot the Halo Density Profile vs \n",
    "# the Hernquist profile\n",
    "####################################\n",
    "\n",
    "# Define an arrya of radii from 0.1 kpc to 300 kpc in increments of 0.1\n",
    "# R = np.arange(0.1,300,0.1)\n",
    "\n",
    "fig = plt.figure(figsize=(10,10))\n",
    "ax = plt.subplot(111)\n",
    "\n",
    "\n",
    "# plot the halo luminosity density as a proxy for surface brighntess\n",
    "#plt.semilogy(R,BulgeI, color='black',linewidth=3, label='Halo Density')\n",
    "\n",
    "# Hernquist Profile for MW\n",
    "a_MW = 61 #(obtained from HW#5)\n",
    "MW_Mhalo = 1.975e12*u.Msun #(obtained from HW#3)\n",
    "plt.semilogy(R,Hernquist(R,a_MW,MW_Mhalo), color='red', linestyle=\"-.\",linewidth=3, label='MW Halo Hernquist')\n",
    "\n",
    "# Hernquist Profile for M31\n",
    "a_M31 = 62 #(obtained from HW#5)\n",
    "M31_Mhalo = 1.921e12*u.Msun #(obtained from HW#3)\n",
    "plt.semilogy(R,Hernquist(R,a_M31,M31_Mhalo), color='blue', linestyle=\"-.\",linewidth=3, label='M31 Halo Hernquist')\n",
    "\n",
    "\n",
    "# Critical Denisty\n",
    "plt.axhline(y=rho_crit*200, color = 'green', label = 'Critical Density')\n",
    "\n",
    "\n",
    "#adjust tick label font size\n",
    "label_size = 22\n",
    "matplotlib.rcParams['xtick.labelsize'] = label_size \n",
    "matplotlib.rcParams['ytick.labelsize'] = label_size\n",
    "\n",
    "\n",
    "# Add axis labels\n",
    "plt.xlabel('Radius (kpc)', fontsize=22)\n",
    "#plt.ylabel('Log(I)  $L_\\odot/kpc^2$', fontsize=22)\n",
    "plt.ylabel('Log(rho)  $M_\\odot/kpc^3$', fontsize=22)\n",
    "\n",
    "\n",
    "\n",
    "\n",
    "# add a legend with some customizations.\n",
    "legend = ax.legend(loc='upper right',fontsize='x-large')\n",
    "\n"
   ]
  },
  {
   "cell_type": "markdown",
   "metadata": {},
   "source": [
    "1.3: Is it more or less concetrated than the MW or M31 before they merged ?\n",
    "\n",
    "Concentration Pararmeter,\n",
    "\n",
    "$c =  \\frac{R_{200}}{R_{scale}}$\n"
   ]
  },
  {
   "cell_type": "code",
   "execution_count": null,
   "metadata": {},
   "outputs": [],
   "source": [
    "# Function that returns R_200 (Edge of the Galaxy); radius where the density = 200 times the critical density of the universe\n",
    "def R_200(M):\n",
    "    \"\"\"\n",
    "    Inputs: Mass of the galaxy\n",
    "    Returns: R_200, radius at the edge of the galaxy\n",
    "    \"\"\"\n",
    "    \n",
    "    #return ((3*M)/(800*math.pi*rho_crit))**0.33"
   ]
  },
  {
   "cell_type": "code",
   "execution_count": null,
   "metadata": {},
   "outputs": [],
   "source": [
    "# Scale Length for MW+M31 Merger\n",
    "# From Homework #5\n",
    "# TESTING\n",
    "###############\n",
    "\n",
    "# test Radius\n",
    "RR = 30\n",
    "\n",
    "# array of radii, not starting at 0.\n",
    "# intervales of 1 kpc\n",
    "testR = np.arange(0.1,RR+1,1.0)"
   ]
  },
  {
   "cell_type": "code",
   "execution_count": null,
   "metadata": {},
   "outputs": [],
   "source": [
    "\n",
    "# Testing Code and Hernquist Halo Match\n",
    "# Merger at 30 kpc\n",
    "######################################\n",
    "\n",
    "# scale radius to test\n",
    "ScaleMerger = \n",
    "# total Halo Mass from M31\n",
    "MtotMW = 1.975e12 \n",
    "\n",
    "# Mass enclosed from simulation\n",
    "MtestMW = MW.MassEnclosed(1,testR)\n",
    "\n",
    "#Mass enclosed from Hernquist Profile  \n",
    "HtestMW = np.round(MW.HernquistMass(RR,ScaleMW,MtotMW)/1e10,2)\n",
    "\n",
    "\n",
    "# Circular Velocity using mass enclosed from simulation\n",
    "VtestMW = MW.CircularVelocity(1,testR)\n",
    "\n",
    "# Circular Velocity from hernquist profile\n",
    "HVtestMW = MW.HernquistVCirc(RR,ScaleMW,MtotMW)\n",
    "\n",
    "print(\"Testing MW at 30 kpc\")\n",
    "print(\"********************\")\n",
    "print(\"Scale Radius\", ScaleMW)\n",
    "print(np.round(MtestMW[RR]/1e10),\"x 1e10\")\n",
    "print(\"Hernquist\", HtestMW, \"x 1e10\")\n",
    "print(\" \")\n",
    "print(VtestMW[RR])\n",
    "print(\"Hernquist Vc\",HVtestMW)\n",
    "\n"
   ]
  },
  {
   "cell_type": "code",
   "execution_count": null,
   "metadata": {},
   "outputs": [],
   "source": [
    "# Plot the Mass Profile for the Merger.\n",
    "####################################\n",
    "\n",
    "\n",
    "fig = plt.figure(figsize=(10,10))\n",
    "ax = plt.subplot(111)\n",
    "\n",
    "# Plot mass enclosed for Halo \n",
    "plt.semilogy(R,MW.MassEnclosed(1,R), color='blue', linewidth=5, label='Halo')\n",
    "\n",
    "# for Disk\n",
    "plt.semilogy(R,MW.MassEnclosed(2,R), color='red', linestyle=\":\", linewidth=3, label='Disk')\n",
    "\n",
    "# for bulge\n",
    "plt.semilogy(R,MW.MassEnclosed(3,R), color='green', linestyle=\"-.\",linewidth=3, label='Bulge')\n",
    "\n",
    "# TOTAL Mass\n",
    "plt.semilogy(R,MW.MassEnclosedTotal(R), color='black', linestyle=\"--\",linewidth=5, label='Total')\n",
    "\n",
    "# Hernquist Profile\n",
    "plt.semilogy(R,MW.HernquistMass(R,ScaleMW,MtotMW), color='magenta',linewidth=5, label='Hernquist, a=61 kpc')\n",
    "\n",
    "\n",
    "# Add axis labels\n",
    "plt.xlabel('Radius (kpc)', fontsize=22)\n",
    "plt.ylabel(r'Log(Mass Enclosed (M$_\\odot$))', fontsize=22)\n",
    "\n",
    "#set axis limits\n",
    "plt.ylim(1e9,1e12)\n",
    "\n",
    "#adjust tick label font size\n",
    "label_size = 22\n",
    "matplotlib.rcParams['xtick.labelsize'] = label_size \n",
    "matplotlib.rcParams['ytick.labelsize'] = label_size\n",
    "# do it this way!!: \n",
    "#plt.rcParams.update[{'font.size':20}]\n",
    "\n",
    "\n",
    "# add a legend with some customizations.\n",
    "legend = ax.legend(loc='lower right',fontsize='x-large')\n",
    "\n",
    "#add figure text\n",
    "plt.figtext(0.15, 0.83, 'Milky Way Mass Profile', fontsize=22)\n",
    "\n",
    "\n",
    "# Save to a file\n",
    "ax.set_rasterized(True)\n",
    "plt.savefig('MassProfile_MW.eps', rasterized=True, dpi=350)"
   ]
  },
  {
   "cell_type": "code",
   "execution_count": null,
   "metadata": {},
   "outputs": [],
   "source": [
    "# Function that returns the Concetration Parameter of the galaxy\n",
    "def Concentration(galaxy):\n",
    "    \"\"\"\n",
    "    Inputs: galaxy, the galaxy filename\n",
    "    Returns: Concentration Parameter of the galaxy system\n",
    "    \"\"\"\n",
    "    # Concentration Parameter, c = R_200 / a \n",
    "    # where R_200 is the Edge of the Galaxy\n",
    "    #       a is the Scale Length\n",
    "    \n",
    "    \n",
    "    return c\n",
    "    "
   ]
  },
  {
   "cell_type": "code",
   "execution_count": null,
   "metadata": {},
   "outputs": [],
   "source": [
    "# Compare to see Concentration Parameters of Merger, MW, and M31"
   ]
  }
 ],
 "metadata": {
  "kernelspec": {
   "display_name": "Python 3",
   "language": "python",
   "name": "python3"
  },
  "language_info": {
   "codemirror_mode": {
    "name": "ipython",
    "version": 3
   },
   "file_extension": ".py",
   "mimetype": "text/x-python",
   "name": "python",
   "nbconvert_exporter": "python",
   "pygments_lexer": "ipython3",
   "version": "3.7.4"
  }
 },
 "nbformat": 4,
 "nbformat_minor": 2
}
