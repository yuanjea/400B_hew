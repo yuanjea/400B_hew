{
 "cells": [
  {
   "cell_type": "markdown",
   "metadata": {},
   "source": [
    "# In Class Lab 10 : Template File\n",
    "\n",
    "Tutorial to make some interesting plots with widgets and the simulaton data ! \n",
    "\n",
    "\n",
    "Graphical widgets -- helpful functions to make a \"graphical user interface\", or GUI.\n",
    "\n",
    "These widgets need to be able to take input from the mouse and keyboard while the program is running. The most common way this is achieved is to have the code run in an infinite loop which is interrupted whenever input is provided. Some action is taken according to the input, and then the loop starts running again. This sort of algorithm is known as an *event loop* -- the code loops until a user event occurs.\n",
    "\n",
    "`matplotlib` provides a number of simple widgets which automatically create an event loop for us. One can create a widget instance, and then tell the widget what function to run when something happens to the widget. Such a function is called a *callback* -- the event loop calls back to the function we give it in order to take some action before starting up again."
   ]
  },
  {
   "cell_type": "code",
   "execution_count": 2,
   "metadata": {},
   "outputs": [],
   "source": [
    "%matplotlib qt\n",
    "# enabling windows to pop up and be interactive\n",
    "\n",
    "import matplotlib.widgets as mw  # get access to the widgets\n",
    "\n",
    "\n",
    "# external modules\n",
    "import matplotlib\n",
    "import matplotlib.pyplot as plt\n",
    "import matplotlib.colors as colors\n",
    "from matplotlib.colors import LogNorm\n",
    "import numpy as np\n",
    "\n",
    "# my modules \n",
    "from ReadFile import Read\n",
    "from CenterOfMass2 import CenterOfMass\n",
    "from MassProfile import MassProfile\n",
    "\n",
    "# I took the code from Lab 7 for making contours and made it into a separate script\n",
    "# NOTE: it is more organized to keep functions in separate scripts \n",
    "# and then call them when you want to e.g. make plots or do some analysis. \n",
    "from contour import density_contour"
   ]
  },
  {
   "cell_type": "markdown",
   "metadata": {},
   "source": [
    "# Part A. Load in Data and make some simple plots\n",
    "\n",
    "To do this lab you will need to sftp into nimoy to get the highres data files for this lab:\n",
    "MW_000.txt and MW_400.txt\n",
    "If you don't have enough space on your computer you can use the low res files. \n"
   ]
  },
  {
   "cell_type": "code",
   "execution_count": 3,
   "metadata": {},
   "outputs": [],
   "source": [
    "# Load in disk particles centered on the MW\n",
    "# this is from the HighRes data files on nimoy so it might take a bit of time to load\n",
    "COM = CenterOfMass(\"MW_000.txt\",2)"
   ]
  },
  {
   "cell_type": "code",
   "execution_count": 4,
   "metadata": {},
   "outputs": [],
   "source": [
    "# Compute COM of the MW at the new position using disk particles\n",
    "COMP = COM.COM_P(0.1, 2)\n",
    "COMV = COM.COM_V(COMP[0],COMP[1],COMP[2])\n",
    "# Determine positions of disk particles relative to COM \n",
    "MW_Disk_x = COM.x - COMP[0].value \n",
    "MW_Disk_y = COM.y - COMP[1].value \n",
    "\n",
    "# Also store the disk velocity in the y direction\n",
    "MW_Disk_vy = COM.vy - COMV[1].value"
   ]
  },
  {
   "cell_type": "code",
   "execution_count": 6,
   "metadata": {},
   "outputs": [],
   "source": [
    "# Plot the disk of the MW with contours. \n",
    "\n",
    "\n",
    "# MW Disk Density \n",
    "fig, ax= plt.subplots(figsize=(10, 10))\n",
    "\n",
    "## ADD HERE\n",
    "# plot the particle density for MW using plt.hist2d \n",
    "# can modify bin number (e.g. bin =100 for low res files)\n",
    "plt.hist2d(MW_Disk_x, MW_Disk_y, bins=200, norm=LogNorm(), cmap='magma')\n",
    "plt.colorbar(label='Number of Disk Particles per bin')\n",
    "# note: MW_Disk.x and MW_Disk.y won't be exactly at 0,0 because i was lazy and didn't take out the center of mass pos\n",
    "\n",
    "#### ADD HERE \n",
    "# call density_contour to add contours\n",
    "# density_contour(x pos, y pos, contour res, contour res, axis, colors=[colors,colors])\n",
    "density_contour(MW_Disk_x, MW_Disk_y, 80,80,ax, colors=['white'])\n",
    "\n",
    "\n",
    "\n",
    "# Add axis labels\n",
    "plt.xlabel('x (kpc)', fontsize=22)\n",
    "plt.ylabel('y (kpc)', fontsize=22)\n",
    "\n",
    "#set axis limits\n",
    "plt.ylim(-30,30)\n",
    "plt.xlim(-30,30)\n",
    "\n",
    "#adjust tick label font size\n",
    "label_size = 22\n",
    "matplotlib.rcParams['xtick.labelsize'] = label_size \n",
    "matplotlib.rcParams['ytick.labelsize'] = label_size\n"
   ]
  },
  {
   "cell_type": "markdown",
   "metadata": {},
   "source": [
    "# Part B  Zooming in on a plot with widgets\n",
    "\n",
    "We can catch characters typed on the keyboard -- *keypress events* -- by connecting a \"key_press_event\" to a callback function which takes an event as an argument.\n",
    "The event object contains a variety of data. The most useful being:\n",
    "\n",
    "    event.key       # the key which was pressed\n",
    "    event.xdata     # the mouse x-position when the key was pressed\n",
    "    event.ydata     # the mouse y-position when the key was pressed\n",
    "    \n",
    "Another useful widget allows the user to select a rectangular region in some axes object, and then calls a callback function with the bounding coordinates (the extent) of the region selected. This is the RectangleSelector widget.\n",
    "\n",
    "Note that click and release are not really that! Click contains the more-negative values and release the more positive values of both x and y coordinates."
   ]
  },
  {
   "cell_type": "code",
   "execution_count": 13,
   "metadata": {},
   "outputs": [],
   "source": [
    "\n",
    "def callbackRectangle( click, release ): # the events are click and release\n",
    "    print( f\"button {click.button} pressed\" )\n",
    "    print( f\"button {release.button} released\" )\n",
    "    extent = [ click.xdata, release.xdata, click.ydata, release.ydata ]\n",
    "    print( f\"box extent is {extent}\") \n",
    "    \n",
    "    # ADD - in order to zoom in reset the axes to the clicked box size\n",
    "    ax.set_xlim(click.xdata, release.xdata)\n",
    "    ax.set_ylim(click.ydata, release.ydata)\n",
    "\n",
    "    # Save the file\n",
    "    plt.savefig('Density_Zoom.png')\n",
    "   "
   ]
  },
  {
   "cell_type": "code",
   "execution_count": 15,
   "metadata": {},
   "outputs": [],
   "source": [
    "# add the ability to reset the image using an \"on key press\" function \n",
    "def onKeyPressed(event):\n",
    "    \n",
    "    if event.key in ['R', 'r']:\n",
    "        # ADD - to zoom back out reset the axes\n",
    "        ax.set_xlim(-30,30)\n",
    "        ax.set_ylim(-30,30)"
   ]
  },
  {
   "cell_type": "code",
   "execution_count": 16,
   "metadata": {},
   "outputs": [
    {
     "data": {
      "text/plain": [
       "13"
      ]
     },
     "execution_count": 16,
     "metadata": {},
     "output_type": "execute_result"
    },
    {
     "name": "stdout",
     "output_type": "stream",
     "text": [
      "button 1 pressed\n",
      "button 1 released\n",
      "box extent is [13.067668382893757, 16.7452978879899, -16.3754427390791, -13.353010625737898]\n",
      "button 1 pressed\n",
      "button 1 released\n",
      "box extent is [-2.1682252810759763, 10.861090679836067, -8.441558441558438, 2.231404958677686]\n"
     ]
    }
   ],
   "source": [
    "# plot the particle density for the MW Disk and then zoom in on a region of the disk \n",
    "\n",
    "fig, ax = plt.subplots(figsize =(10 ,10))                             \n",
    "\n",
    "# 2d histogram \n",
    "plt.hist2d(MW_Disk_x,MW_Disk_y, bins=300, norm=LogNorm(), cmap='magma')\n",
    "plt.colorbar(label='Number  of Particles  per  bin')\n",
    "\n",
    "# over plot contours\n",
    "density_contour(MW_Disk_x, MW_Disk_y, 80, 80, ax=ax, \\\n",
    "                colors=['white'])\n",
    "   \n",
    "    \n",
    "## NEW: Rectangle Selector.     \n",
    "rs = mw.RectangleSelector( ax,                        # the axes to attach to\n",
    "                           callbackRectangle,         # the callback function\n",
    "                           drawtype='box',            # draw a box when selecting a region\n",
    "                           button=[1, 3],             # allow us to use left or right mouse button\n",
    "                                                      #button 1 is left mouse button\n",
    "                           minspanx=5, minspany=5,    # don't accept a box of fewer than 5 pixels\n",
    "                           spancoords='pixels' )      # units for above\n",
    "\n",
    "\n",
    "#set axis limits\n",
    "ax.set_ylim(-30,30)\n",
    "ax.set_xlim(-30,30)\n",
    "\n",
    "\n",
    "# Add axis labels\n",
    "plt.xlabel('x (kpc)', fontsize=22)\n",
    "plt.ylabel('y (kpc)', fontsize=22)\n",
    "\n",
    "# ADDED THIS\n",
    "# to detect the 'R' key press to reset the image\n",
    "plt.connect(\"key_press_event\", onKeyPressed)\n"
   ]
  },
  {
   "cell_type": "markdown",
   "metadata": {},
   "source": [
    "# Part C    Connecting Morphology to Kinematics\n",
    "\n",
    "\n",
    "Make a two panel plot.\n",
    "Left Panel:  Density \n",
    "Right Panel: Phase Diagram \n",
    "\n",
    "Relect a section of the density plot and see where the particles are on the phase diagram"
   ]
  },
  {
   "cell_type": "code",
   "execution_count": null,
   "metadata": {},
   "outputs": [],
   "source": [
    "# Let's store the circular velocity of the MW like we did in Lab 7\n",
    "\n",
    "# ADD MassProfile Object.\n"
   ]
  },
  {
   "cell_type": "code",
   "execution_count": null,
   "metadata": {},
   "outputs": [],
   "source": [
    "# Add an array for radii up to 40 kpc\n",
    "\n",
    "\n",
    "# Store Vcirc \n",
    "\n"
   ]
  },
  {
   "cell_type": "code",
   "execution_count": null,
   "metadata": {},
   "outputs": [],
   "source": [
    "# Step 1) Copy over the call back function and the onkeypressed function\n",
    "\n",
    "# Step 3) Let figure out how to select a region in the density and plot it also in the right panel\n",
    "# We also don't want to zoom in on the left panel, instead let's just mark the region we examined. \n",
    "\n",
    "\n"
   ]
  },
  {
   "cell_type": "code",
   "execution_count": 39,
   "metadata": {},
   "outputs": [],
   "source": [
    "def callbackRectangle( click, release ): # the events are click and release\n",
    "    print( f\"button {click.button} pressed\" )\n",
    "    print( f\"button {release.button} released\" )\n",
    "    extent = [ click.xdata, release.xdata, click.ydata, release.ydata ]\n",
    "    print( f\"box extent is {extent}\") \n",
    "    \n",
    "    # ADD - in order to zoom in reset the axes to the clicked box size\n",
    "    #ax[0].set_xlim(click.xdata, release.xdata)\n",
    "    #ax[0].set_ylim(click.ydata, release.ydata)\n",
    "    \n",
    "    # Create a rectangle\n",
    "    width = np.abs(release.xdata - click.data)\n",
    "    height = np.abs(click.ydata - release.ydata)\n",
    "    \n",
    "    Rect = plt.Rectangle((click.xdata, click.ydata), width, height, fill=False, color='yellow', linewidth=3)\n",
    "    ax[0].add_patch(Rect)\n",
    "    \n",
    "    # Use the selected region to find the corresponding particles in the phase diagram\n",
    "    index = np.where( (MW_Disk_x > click.xdata) & (MW_Disk_x < release.xdata) & (MW_Disk_y > click.ydata) & (MW_Disk_y < release.ydata) )\n",
    "    \n",
    "    ax[1].scatter(MW_Disk_x(index), MW_Disk_vy(index))\n",
    "    \n",
    "    # Save the file\n",
    "    plt.savefig('Density_Velocity.png')"
   ]
  },
  {
   "cell_type": "code",
   "execution_count": 40,
   "metadata": {},
   "outputs": [],
   "source": [
    "def onKeyPressed(event):\n",
    "    \n",
    "    if event.key in ['R', 'r']:\n",
    "        # ADD - to zoom back out reset the axes\n",
    "        ax.set_xlim(-30,30)\n",
    "        ax.set_ylim(-30,30)"
   ]
  },
  {
   "cell_type": "code",
   "execution_count": 41,
   "metadata": {},
   "outputs": [
    {
     "data": {
      "text/plain": [
       "13"
      ]
     },
     "execution_count": 41,
     "metadata": {},
     "output_type": "execute_result"
    },
    {
     "name": "stdout",
     "output_type": "stream",
     "text": [
      "button 1 pressed\n",
      "button 1 released\n",
      "box extent is [-22.071030787012724, -17.63265735000526, 0.4368358913813495, 2.892561983471076]\n"
     ]
    },
    {
     "name": "stderr",
     "output_type": "stream",
     "text": [
      "Traceback (most recent call last):\n",
      "  File \"/home/yjhew/anaconda3/lib/python3.7/site-packages/matplotlib/cbook/__init__.py\", line 216, in process\n",
      "    func(*args, **kwargs)\n",
      "  File \"/home/yjhew/anaconda3/lib/python3.7/site-packages/matplotlib/widgets.py\", line 1620, in release\n",
      "    self._release(event)\n",
      "  File \"/home/yjhew/anaconda3/lib/python3.7/site-packages/matplotlib/widgets.py\", line 2217, in _release\n",
      "    self.onselect(self.eventpress, self.eventrelease)\n",
      "  File \"<ipython-input-39-2c02ab5085fe>\", line 12, in callbackRectangle\n",
      "    width = np.abs(release.xdata - click.data)\n",
      "AttributeError: 'MouseEvent' object has no attribute 'data'\n"
     ]
    },
    {
     "name": "stdout",
     "output_type": "stream",
     "text": [
      "button 1 pressed\n",
      "button 1 released\n",
      "box extent is [-1.3586214143112443, 11.771566670169157, -11.652892561983471, -7.308146399055488]\n"
     ]
    },
    {
     "name": "stderr",
     "output_type": "stream",
     "text": [
      "Traceback (most recent call last):\n",
      "  File \"/home/yjhew/anaconda3/lib/python3.7/site-packages/matplotlib/cbook/__init__.py\", line 216, in process\n",
      "    func(*args, **kwargs)\n",
      "  File \"/home/yjhew/anaconda3/lib/python3.7/site-packages/matplotlib/widgets.py\", line 1620, in release\n",
      "    self._release(event)\n",
      "  File \"/home/yjhew/anaconda3/lib/python3.7/site-packages/matplotlib/widgets.py\", line 2217, in _release\n",
      "    self.onselect(self.eventpress, self.eventrelease)\n",
      "  File \"<ipython-input-39-2c02ab5085fe>\", line 12, in callbackRectangle\n",
      "    width = np.abs(release.xdata - click.data)\n",
      "AttributeError: 'MouseEvent' object has no attribute 'data'\n"
     ]
    },
    {
     "name": "stdout",
     "output_type": "stream",
     "text": [
      "button 1 pressed\n",
      "button 1 released\n",
      "box extent is [0.12083639802457924, 18.98392350530628, -4.3801652892561975, 4.214876033057855]\n"
     ]
    },
    {
     "name": "stderr",
     "output_type": "stream",
     "text": [
      "Traceback (most recent call last):\n",
      "  File \"/home/yjhew/anaconda3/lib/python3.7/site-packages/matplotlib/cbook/__init__.py\", line 216, in process\n",
      "    func(*args, **kwargs)\n",
      "  File \"/home/yjhew/anaconda3/lib/python3.7/site-packages/matplotlib/widgets.py\", line 1620, in release\n",
      "    self._release(event)\n",
      "  File \"/home/yjhew/anaconda3/lib/python3.7/site-packages/matplotlib/widgets.py\", line 2217, in _release\n",
      "    self.onselect(self.eventpress, self.eventrelease)\n",
      "  File \"<ipython-input-39-2c02ab5085fe>\", line 12, in callbackRectangle\n",
      "    width = np.abs(release.xdata - click.data)\n",
      "AttributeError: 'MouseEvent' object has no attribute 'data'\n"
     ]
    },
    {
     "name": "stdout",
     "output_type": "stream",
     "text": [
      "button 1 pressed\n",
      "button 1 released\n",
      "box extent is [-3.8306451612903274, 17.370967741935488, -17.370672287140057, -6.8632799181725055]\n"
     ]
    },
    {
     "name": "stderr",
     "output_type": "stream",
     "text": [
      "Traceback (most recent call last):\n",
      "  File \"/home/yjhew/anaconda3/lib/python3.7/site-packages/matplotlib/cbook/__init__.py\", line 216, in process\n",
      "    func(*args, **kwargs)\n",
      "  File \"/home/yjhew/anaconda3/lib/python3.7/site-packages/matplotlib/widgets.py\", line 1620, in release\n",
      "    self._release(event)\n",
      "  File \"/home/yjhew/anaconda3/lib/python3.7/site-packages/matplotlib/widgets.py\", line 2217, in _release\n",
      "    self.onselect(self.eventpress, self.eventrelease)\n",
      "  File \"<ipython-input-39-2c02ab5085fe>\", line 12, in callbackRectangle\n",
      "    width = np.abs(release.xdata - click.data)\n",
      "AttributeError: 'MouseEvent' object has no attribute 'data'\n"
     ]
    }
   ],
   "source": [
    "# Step 2) \n",
    "# Add not just the density but also the phase diagram as a separate panel.\n",
    "# Copy over the plotting code (2D histogram) and modify the figure so that there are now two panels.\n",
    "\n",
    "# Add a phase diagram: X vs VY\n",
    "\n",
    "fig, ax = plt.subplots(nrows=1, ncols=2, figsize =(25 ,10))                             \n",
    "# ax[0] --> Density\n",
    "# ax[1] --> Phase Diagram\n",
    "\n",
    "\n",
    "\n",
    "# 2d histogram is on the LEFT panel\n",
    "\n",
    "ax[0].hist2d(MW_Disk_x,MW_Disk_y, bins=300, norm=LogNorm(), cmap='magma')\n",
    "#plt.colorbar(label='Number  of Particles  per  bin')\n",
    "\n",
    "# over plot contours\n",
    "density_contour(MW_Disk_x, MW_Disk_y, 80, 80, ax=ax[0], \\\n",
    "                colors=['white'])\n",
    "   \n",
    "    \n",
    "#set axis limits\n",
    "ax[0].set_ylim(-30,30)\n",
    "ax[0].set_xlim(-30,30)\n",
    "\n",
    "\n",
    "# Add axis labels\n",
    "ax[0].set_xlabel('x (kpc)', fontsize=22)\n",
    "ax[0].set_ylabel('y (kpc)', fontsize=22)\n",
    "\n",
    "# Phase diagram is on the RIGHT panel\n",
    "ax[1].hist2d(MW_Disk_x, MW_Disk_vy, bins=200, norm=LogNorm(), cmap='magma')\n",
    "\n",
    "# set axis limits \n",
    "ax[1].set_xlim(-30,30)\n",
    "\n",
    "ax[1].set_xlabel('x (kpc)')\n",
    "ax[1].set_ylabel('velocit along y-axis (kpc)')\n",
    "                \n",
    "\n",
    "\n",
    "## NEW: Rectangle Selector.     \n",
    "rs = mw.RectangleSelector( ax[0],                        # the axes to attach to\n",
    "                           callbackRectangle,         # the callback function\n",
    "                           drawtype='box',            # draw a box when selecting a region\n",
    "                           button=[1, 3],             # allow us to use left or right mouse button\n",
    "                                                      #button 1 is left mouse button\n",
    "                           minspanx=5, minspany=5,    # don't accept a box of fewer than 5 pixels\n",
    "                           spancoords='pixels' )      # units for above\n",
    "\n",
    "\n",
    "\n",
    "# ADDED THIS\n",
    "# to detect the 'R' key press to reset the image\n",
    "plt.connect(\"key_press_event\", onKeyPressed)\n",
    "\n",
    "########### unitl 26th min"
   ]
  },
  {
   "cell_type": "markdown",
   "metadata": {},
   "source": [
    "# Part D:  Flip it around \n",
    "\n",
    "Now Pick based on kinematics and find out where they are in the disk.\n",
    "This would be a good way to find e.g. high velocity particles. or particles that are really not obeying the normal kinematics of the disk at the current time."
   ]
  },
  {
   "cell_type": "code",
   "execution_count": null,
   "metadata": {},
   "outputs": [],
   "source": [
    "# Copy over the Call back function and the onkeypressed function from Part C\n",
    "# flip the axes ax[0] < --- > ax[1]"
   ]
  },
  {
   "cell_type": "code",
   "execution_count": null,
   "metadata": {},
   "outputs": [],
   "source": [
    "# Copy over the Density and phase diagram code\n",
    "# flip the axes ax[0]<--> ax[1]\n",
    "\n",
    "\n"
   ]
  },
  {
   "cell_type": "markdown",
   "metadata": {},
   "source": [
    "# Part E : Connecting particles across snapshots\n"
   ]
  },
  {
   "cell_type": "code",
   "execution_count": null,
   "metadata": {},
   "outputs": [],
   "source": [
    "# Load in a different snapshot\n",
    "COM_2 = CenterOfMass(\"MW_400.txt\",2)"
   ]
  },
  {
   "cell_type": "code",
   "execution_count": null,
   "metadata": {},
   "outputs": [],
   "source": [
    "\n",
    "# Compute COM of the MW at the new position using disk particles\n",
    "COMP_2 = COM_2.COM_P(0.1, 2)\n",
    "# Determine positions of disk particles relative to COM \n",
    "MW_Disk_2_x = COM_2.x - COMP_2[0].value \n",
    "MW_Disk_2_y = COM_2.y - COMP_2[1].value \n"
   ]
  },
  {
   "cell_type": "code",
   "execution_count": null,
   "metadata": {},
   "outputs": [],
   "source": [
    "# Copy over the Call back function and the onkeypressed function from Part C\n",
    "\n"
   ]
  },
  {
   "cell_type": "code",
   "execution_count": null,
   "metadata": {},
   "outputs": [],
   "source": [
    "# Copy over the plotting script from Part C\n",
    "# Instead of the phase plot, have the second panel be the MW at a different snapshot\n",
    "\n"
   ]
  },
  {
   "cell_type": "code",
   "execution_count": null,
   "metadata": {},
   "outputs": [],
   "source": []
  }
 ],
 "metadata": {
  "kernelspec": {
   "display_name": "Python 3",
   "language": "python",
   "name": "python3"
  },
  "language_info": {
   "codemirror_mode": {
    "name": "ipython",
    "version": 3
   },
   "file_extension": ".py",
   "mimetype": "text/x-python",
   "name": "python",
   "nbconvert_exporter": "python",
   "pygments_lexer": "ipython3",
   "version": "3.7.4"
  }
 },
 "nbformat": 4,
 "nbformat_minor": 2
}
