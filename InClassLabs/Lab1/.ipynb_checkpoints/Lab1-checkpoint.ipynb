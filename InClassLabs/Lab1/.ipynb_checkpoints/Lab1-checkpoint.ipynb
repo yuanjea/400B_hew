{
 "cells": [
  {
   "cell_type": "markdown",
   "metadata": {},
   "source": [
    "# In Class Lab 1\n",
    "\n",
    "## Part A:  The Local Standard of Rest\n",
    "Proper motion of Sgr A* from Reid & Brunthaler 2004\n",
    "$\\mu = 6.379$ mas/yr \n",
    "\n",
    "Peculiar motion of the sun, $v_\\odot$ = 12.24 km/s  (Schonrich 2010)\n",
    "\n",
    "\n",
    "$v_{tan} = 4.74 \\frac{\\mu}{\\rm mas/yr} \\frac{R_o}{\\rm kpc} = V_{LSR} + v_\\odot$\n",
    "\n",
    "\n",
    "### a)\n",
    "\n",
    "Create a function called VLSR to compute the local standard of res (V$_{LSR}$).\n",
    "\n",
    "The function should take as input: the solar radius (R$_o$), the proper motion (mu)\n",
    "and the peculiar motion of the sun in the $v_\\odot$ direction.\n",
    "\n",
    "Compute V$_{LSR}$ using three different values R$_o$: \n",
    "1. Water Maser Distance for the Sun :  R$_o$ = 8.34 kpc   (Reid 2014 ApJ 783) \n",
    "2. GRAVITY Collaboration Distance for the Sun:  R$_o$ = 8.178 kpc   (Abuter+2019 A&A 625)\n",
    "3. Value for Distance to Sun listed in Sparke & Gallagher : R$_o$ = 7.9 kpc \n"
   ]
  },
  {
   "cell_type": "code",
   "execution_count": 11,
   "metadata": {},
   "outputs": [],
   "source": [
    "import numpy as np"
   ]
  },
  {
   "cell_type": "code",
   "execution_count": 1,
   "metadata": {},
   "outputs": [],
   "source": [
    "# Function to compute the local standard of rest of velocity\n",
    "\n",
    "# 4.74*mu*Ro = VLSR + vsun\n",
    "# The function will use the below expression\n",
    "# VLSR = 4.74*mu*Ro - vsun\n",
    "\n",
    "def VLSR(Ro,mu=6.379,vsun=12.24):\n",
    "    # Inputs:\n",
    "    # Ro is the distance from the sun to the Galactic Centre (kpc)\n",
    "    # mu is the proper motion of Sag A* (mas/yr) : Default is from Reid & Brunthaler 2004\n",
    "    # vsun is the perculiar motion of the sun in the v direction (km/s): DEfault is from Schonrich+2010\n",
    "    # Returns:\n",
    "    # VLSR, the local standard of rest (km/s)\n",
    "    \n",
    "    \n",
    "    return 4.74*mu*Ro-vsun\n",
    "    \n",
    "\n",
    "\n",
    "\n",
    "     \n",
    "    \n",
    "    "
   ]
  },
  {
   "cell_type": "code",
   "execution_count": 7,
   "metadata": {},
   "outputs": [],
   "source": [
    "RoReid = 8.34 # Distance to the Galactic centre from Reid et al. 2004 in kpc\n",
    "RoGravity = 8.178 # Distance to the Galactic Centre from GRAVITY Collaboration Abuter + 2019\n",
    "RoSG = 7.9 # Distance to the Galactic centre from the textbook by Sparks & Gallagher"
   ]
  },
  {
   "cell_type": "code",
   "execution_count": 5,
   "metadata": {},
   "outputs": [
    {
     "name": "stdout",
     "output_type": "stream",
     "text": [
      "239.9320764\n"
     ]
    }
   ],
   "source": [
    "# Compute VLSR using the Reid 2014 value for Ro\n",
    "VLSR_Reid = VLSR(RoReid)\n",
    "print(VLSR_Reid)"
   ]
  },
  {
   "cell_type": "code",
   "execution_count": 8,
   "metadata": {},
   "outputs": [
    {
     "name": "stdout",
     "output_type": "stream",
     "text": [
      "235.03376988000002\n"
     ]
    }
   ],
   "source": [
    "# Compute VLsR using GRAVITY value for Ro\n",
    "VLSR_Gravity = VLSR(RoGravity)\n",
    "print(VLSR_Gravity)"
   ]
  },
  {
   "cell_type": "code",
   "execution_count": 9,
   "metadata": {},
   "outputs": [
    {
     "name": "stdout",
     "output_type": "stream",
     "text": [
      "226.628034\n"
     ]
    }
   ],
   "source": [
    "# Compute VLSR using the Sparks & Gallagher value for Ro\n",
    "VLSR_SG = VLSR(RoSG)\n",
    "print(VLSR_SG)"
   ]
  },
  {
   "cell_type": "markdown",
   "metadata": {},
   "source": [
    "### b)\n",
    "\n",
    "compute the orbital period of the sun using R$_o$ from the GRAVITY Collaboration (assume circular orbit)\n",
    "\n",
    "Note that 1 km/s $\\sim$ 1kpc/Gyr"
   ]
  },
  {
   "cell_type": "code",
   "execution_count": 13,
   "metadata": {},
   "outputs": [
    {
     "name": "stdout",
     "output_type": "stream",
     "text": [
      "0.20780161788713317\n"
     ]
    }
   ],
   "source": [
    "# Orbital Period of the Sun, using Ro from GRAVITY collaboration\n",
    "# T = 2piR/V -- units . kpc / (km/s) - kpc /(kpc/Gyr) - Gyr\n",
    "# V = Vtan = VLSR + Vsun\n",
    "Vtan = VLSR_Gravity + 12.24\n",
    "T_Grav = 2*np.pi*RoGravity/Vtan\n",
    "print(T_Grav) # orbital period in Gyr"
   ]
  },
  {
   "cell_type": "markdown",
   "metadata": {},
   "source": [
    "### c)\n",
    "\n",
    "Compute the number of rotations about the GC over the age of the universe (13.8 Gyr)"
   ]
  },
  {
   "cell_type": "code",
   "execution_count": 14,
   "metadata": {},
   "outputs": [
    {
     "name": "stdout",
     "output_type": "stream",
     "text": [
      "66.40949257428511\n"
     ]
    }
   ],
   "source": [
    "# The number of rotaitions about the Galactic Centre\n",
    "# Age of the Universe / Orbital Period\n",
    "print(13.8/T_Grav)"
   ]
  },
  {
   "cell_type": "markdown",
   "metadata": {},
   "source": [
    "## Part B  Dark Matter Density Profiles\n",
    "\n",
    "### a)\n",
    "Try out Fitting Rotation Curves \n",
    "[here](http://wittman.physics.ucdavis.edu/Animations/RotationCurve/GalacticRotation.html)\n",
    "\n",
    "\n",
    "### b)\n",
    "\n",
    "In the Isothermal Sphere model, what is the mass enclosed within the solar radius (R$_o$) in units of $10^{10}$ M$_\\odot$? \n",
    "\n",
    "Recall that for the Isothermal sphere :\n",
    "$\\rho(r) = \\frac{V_{LSR}^2}{4\\pi G r^2}$\n",
    "\n",
    "Where $G$ = 4.4988e-6 kpc$^3$/Gyr$^2$/M$_\\odot$\n",
    "\n",
    "What about at 260 kpc (in units of 10$^{12}$ M$_\\odot$) ? "
   ]
  },
  {
   "cell_type": "code",
   "execution_count": 15,
   "metadata": {},
   "outputs": [],
   "source": [
    "# Graviationla constant \n",
    "G = 4.4988e-6 # kpc^3/Gyr^2/Msun"
   ]
  },
  {
   "cell_type": "code",
   "execution_count": 22,
   "metadata": {},
   "outputs": [],
   "source": [
    "# Compute the mass enclosed within a given radius assuming an Isothermal Sphere Model\n",
    "# Density profile rho = VLSR^2/ (4*pi*G*R^2)\n",
    "# Mass = Integrate Rho dv\n",
    "#        Integrate rho 4*pi*G*r^2 dr\n",
    "#        Integrate VLSR^2 / (4*pi*G*r^2) * 4*pi*r^2 dr\n",
    "#        Integrate VLSR^2/G dr\n",
    "#        VLSR^2/G * r\n",
    "\n",
    "def MassIso(r, VLSR=235):\n",
    "    # Inputs:\n",
    "    #     VLSR is the local standard of rest(km/s): Unisng default VLSR arising from Gravity Collaboration Ro (defined above)\n",
    "    #     r is the distance from the Galactic Center (kpc)\n",
    "    # Returns:\n",
    "    #     Mass enclosed on Msun\n",
    "    return VLSR**2/G*r\n",
    "    \n",
    "    "
   ]
  },
  {
   "cell_type": "code",
   "execution_count": 25,
   "metadata": {},
   "outputs": [
    {
     "name": "stdout",
     "output_type": "stream",
     "text": [
      "10.038900373432917\n"
     ]
    }
   ],
   "source": [
    "# Compute mass enclosed within Ro\n",
    "\n",
    "MIsoSolar = MassIso(RoGravity)\n",
    "print(MIsoSolar/1e10) # units of 1e10 Msun"
   ]
  },
  {
   "cell_type": "code",
   "execution_count": 26,
   "metadata": {},
   "outputs": [
    {
     "name": "stdout",
     "output_type": "stream",
     "text": [
      "3.191628878812128\n"
     ]
    }
   ],
   "source": [
    "# Compute mass enclosed within 260 kpc\n",
    "MIso260 = MassIso(260)\n",
    "print(MIso260/1e12)"
   ]
  },
  {
   "cell_type": "markdown",
   "metadata": {},
   "source": [
    "## c) \n",
    "\n",
    "The Leo I satellite is one of the fastest moving satellite galaxies we know. \n",
    "\n",
    "\n",
    "It is moving with 3D velocity of magnitude: Vtot = 196 km/s at a distance of 260 kpc (Sohn 2013 ApJ 768)\n",
    "\n",
    "If we assume that Leo I is moving at the escape speed:\n",
    "\n",
    "$v_{esc}^2 = 2|\\Phi| = 2 \\int G \\frac{\\rho(r)}{r}dV $ \n",
    "\n",
    "and assuming the Milky Way is well modeled by a Hernquist Sphere with a scale radius of $a$= 30 kpc, what is the minimum mass of the Milky Way (in units of $10^{12}$ M$_\\odot$) ?  \n",
    "\n",
    "How does this compare to estimates of the mass assuming the Isothermal Sphere model at 260 kpc (from your answer above)"
   ]
  },
  {
   "cell_type": "code",
   "execution_count": 30,
   "metadata": {},
   "outputs": [],
   "source": [
    "# Potential for a Hernquist Sphere\n",
    "# Phi = -G*M/(r+a)\n",
    "\n",
    "# Using the Hernquist Potential, the equation for the escape speed becomes\n",
    "# vesc^2 = 2*G*M/(r+a)\n",
    "\n",
    "#Rearranging the excape equation for x\n",
    "# M = vesc^2/2/G*(r+a)\n",
    "#    = 196^2/2/G*(260+30)\n",
    "\n",
    "# Function that will determine the total halo mass needed to set a given escape at a given distance,\n",
    "# assuming a Hernquist profile for the dark matter halo\n",
    "\n",
    "def MassFromVesc(vesc,a,r):\n",
    "    #Inputs:\n",
    "    #       vesc the escape speed in km/s (or the speed of the satellite)\n",
    "    #       ris the distance from the Galactic center (kpc)\n",
    "    #       a = Hernquist sclae length (kpc)\n",
    "    #Return:\n",
    "    #       Total mass in Msun\n",
    "    return vesc**2/2/G*(r+a)\n"
   ]
  },
  {
   "cell_type": "code",
   "execution_count": 31,
   "metadata": {},
   "outputs": [
    {
     "name": "stdout",
     "output_type": "stream",
     "text": [
      "1.2381790699742152\n"
     ]
    }
   ],
   "source": [
    "# Mass needed to keep Leo I bound, assuming a Hernquist Profile\n",
    "MLeoI = MassFromVesc(196,30,260)\n",
    "print(MLeoI/1e12)\n"
   ]
  },
  {
   "cell_type": "code",
   "execution_count": null,
   "metadata": {},
   "outputs": [],
   "source": []
  }
 ],
 "metadata": {
  "kernelspec": {
   "display_name": "Python 3",
   "language": "python",
   "name": "python3"
  },
  "language_info": {
   "codemirror_mode": {
    "name": "ipython",
    "version": 3
   },
   "file_extension": ".py",
   "mimetype": "text/x-python",
   "name": "python",
   "nbconvert_exporter": "python",
   "pygments_lexer": "ipython3",
   "version": "3.7.4"
  }
 },
 "nbformat": 4,
 "nbformat_minor": 2
}
