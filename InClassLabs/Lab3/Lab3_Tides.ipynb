{
 "cells": [
  {
   "cell_type": "code",
   "execution_count": 2,
   "metadata": {},
   "outputs": [],
   "source": [
    "# In Class Lab 3\n",
    "# G. Besla \n",
    "\n",
    "# import relevant modules \n",
    "import astropy.units as u\n",
    "import numpy as np"
   ]
  },
  {
   "cell_type": "markdown",
   "metadata": {},
   "source": [
    "The Large Magellanic Cloud is at a distance of 50 kpc from the Galactic Center. \n",
    "It is observed to have a stellar disk that extends to a radius of at least 18.5 kpc.\n",
    "\n",
    "![LMC](./Lab3_Tidal.png)\n",
    "Deep photometric imaging reveals the faint stellar outskirts of the LMC. \n",
    "Outskirts: DECam data Mackey+2016 MNRAS 459, 239. \n",
    "Inner: shallower imaging from robotic telescopes Besla+2016 APJ 825.\n",
    "\n",
    "In this lab we will determine\n",
    "the minimum mass required for the LMC so that it maintains the observed radius \n",
    "in the face of the Milky Way's tidal field. "
   ]
  },
  {
   "cell_type": "markdown",
   "metadata": {},
   "source": [
    "# Part A\n",
    "\n",
    "We define the mass profile of the Milky Way using a Hernquist profile.\n",
    "\n",
    "\n",
    "$\\rho(r) =  \\frac{M_{halo}}{2\\pi} \\frac{a}{r(r+a)^3} \\qquad M(r) =  \\frac{M_{halo} r^2}{(a+r)^2}$ \n",
    "\n"
   ]
  },
  {
   "cell_type": "markdown",
   "metadata": {},
   "source": [
    "## #1\n",
    "\n",
    "Create a function `HernquistM` that returns the dark matter halo mass at a given radius in units of solar mass.\n",
    "This function should take as input:  the distance from the Galactic center $r$, the scale radius $a$, and the halo mass $M_{halo}$.\n",
    "\n",
    "\n",
    "For the Hernquist scale radius for the Milky Way, use the default value of $a=60$ kpc. \n",
    "\n",
    "For $M_{halo}$ use your answer for the total mass of the simulated Milky Way you computed in Homework 3 as the default value (in units of 1e12). "
   ]
  },
  {
   "cell_type": "code",
   "execution_count": 3,
   "metadata": {},
   "outputs": [],
   "source": [
    "# Function that returns the Hernquist 1990  Mass Profile\n",
    "def HernquistM(r,a=60,Mhalo=1.97):    # Inputs:\n",
    "    #        r is the distnace from the centre of the galaxy (kpc)\n",
    "    #        a is the scale radius (kpc)\n",
    "    #        Mhalo is the total dark matter halo mass (10^12 Msun)\n",
    "    # Return:\n",
    "    #        Total dark matter mass enclosed within r (Msun)\n",
    "    return np.around(Mhalo*r**2/(a+r)**2,2)*1e12*u.Msun\n",
    "    "
   ]
  },
  {
   "cell_type": "code",
   "execution_count": 4,
   "metadata": {},
   "outputs": [
    {
     "data": {
      "text/latex": [
       "$1.95 \\times 10^{12} \\; \\mathrm{M_{\\odot}}$"
      ],
      "text/plain": [
       "<Quantity 1.95e+12 solMass>"
      ]
     },
     "execution_count": 4,
     "metadata": {},
     "output_type": "execute_result"
    }
   ],
   "source": [
    "HernquistM(10000)"
   ]
  },
  {
   "cell_type": "code",
   "execution_count": 5,
   "metadata": {},
   "outputs": [
    {
     "data": {
      "text/latex": [
       "$1.3 \\times 10^{12} \\; \\mathrm{M_{\\odot}}$"
      ],
      "text/plain": [
       "<Quantity 1.3e+12 solMass>"
      ]
     },
     "execution_count": 5,
     "metadata": {},
     "output_type": "execute_result"
    }
   ],
   "source": [
    "HernquistM(260)"
   ]
  },
  {
   "cell_type": "code",
   "execution_count": 6,
   "metadata": {},
   "outputs": [
    {
     "data": {
      "text/latex": [
       "$4.1 \\times 10^{11} \\; \\mathrm{M_{\\odot}}$"
      ],
      "text/plain": [
       "<Quantity 4.1e+11 solMass>"
      ]
     },
     "execution_count": 6,
     "metadata": {},
     "output_type": "execute_result"
    }
   ],
   "source": [
    "HernquistM(50)"
   ]
  },
  {
   "cell_type": "markdown",
   "metadata": {},
   "source": [
    "\n",
    "#2\n",
    "\n",
    "Compute the total mass of the Milky Way within 50 kpc, including its baryonic components (Dark Matter + Bulge + Disk). Use your answers from Homework 3 for the Bulge and Disk Masses. \n",
    "Store this as a variable called `MassMW50`.\n"
   ]
  },
  {
   "cell_type": "code",
   "execution_count": 7,
   "metadata": {},
   "outputs": [],
   "source": [
    "# Bulge Mass \n",
    "Mbulge = 1e10*u.Msun\n",
    "\n",
    "# Disk Mass \n",
    "Mdisk = 7.5e10*u.Msun \n",
    "\n",
    "# Halo Mass within 50 kpc + Disk Mass + Bulge Mass \n",
    "MassMW50 = HernquistM(50) + Mdisk + Mbulge"
   ]
  },
  {
   "cell_type": "code",
   "execution_count": 8,
   "metadata": {},
   "outputs": [
    {
     "data": {
      "text/latex": [
       "$4.95 \\times 10^{11} \\; \\mathrm{M_{\\odot}}$"
      ],
      "text/plain": [
       "<Quantity 4.95e+11 solMass>"
      ]
     },
     "execution_count": 8,
     "metadata": {},
     "output_type": "execute_result"
    }
   ],
   "source": [
    "MassMW50 "
   ]
  },
  {
   "cell_type": "markdown",
   "metadata": {},
   "source": [
    "\n",
    "\n",
    "\n",
    "# Part B\n",
    "\n",
    "The Jacobi Radius for a satellite on a circular orbit about an extended host, where \n",
    "the host is assumed to be well modeled as an isothermal sphere halo:\n",
    "\n",
    "\n",
    "$R_j = r  \\bigg( \\frac{M_{sat}}{2 M_{host}(<r)} \\bigg)^{1/3}$\n",
    "\n",
    "\n",
    "The Isothermal Sphere approximation is not a bad one within 50 kpc.\n",
    "\n",
    "Note also that the LMC is not on a circular orbit, but it is very close to its pericentric approach, where the velocity is all in the tangential component. So this isn't a terrible approximation either. \n",
    "\n",
    "## #1\n",
    "Create a function called `JacobiMass` that returns the total mass of a satellite galaxy in units of Msun, \n",
    "such that it has a given size \n",
    "\n",
    "Do this by rearranging the Jacobi Radius equation to solve for the satellite mass. \n"
   ]
  },
  {
   "cell_type": "code",
   "execution_count": 9,
   "metadata": {},
   "outputs": [],
   "source": [
    "# Function that returns the minimum mass of a satellite given its observed size and distance \n",
    "# from a massive host\n",
    "# Msat = (Rj/r)**3 * 2 * Mhost \n",
    "def JacobiMass(Rj,r,Mhost):\n",
    "    # Inputs:\n",
    "    #        Rj is the Jacobi radius, approximated as the observed size of the satellite (kpc)\n",
    "    #        r = distance between the satellite and the host (kpc)\n",
    "    #        Mhost = total mass of the host enclosed within r (Msun)\n",
    "    # Return:\n",
    "    #       The minimum mass of a satellite given its current size (Msun)\n",
    "    return (Rj/r)**3 *2 *Mhost"
   ]
  },
  {
   "cell_type": "markdown",
   "metadata": {},
   "source": [
    "## #2 \n",
    "\n",
    "Determine the minimum total mass of the LMC needed to maintain its radius of 18.5 kpc in the face of the Milky Way's tidal \n",
    "field at its current distance of 50 kpc. Store this as a variable called `LMCJacobiMass`."
   ]
  },
  {
   "cell_type": "code",
   "execution_count": 12,
   "metadata": {},
   "outputs": [],
   "source": [
    "# Observed size of the LMC disk\n",
    "SizeL = 18.5*u.kpc # Mackey+2016\n",
    "\n",
    "# Distance to the LMC\n",
    "DistL = 50.0*u.kpc\n",
    "\n"
   ]
  },
  {
   "cell_type": "code",
   "execution_count": 13,
   "metadata": {},
   "outputs": [
    {
     "data": {
      "text/latex": [
       "$5.014647 \\times 10^{10} \\; \\mathrm{M_{\\odot}}$"
      ],
      "text/plain": [
       "<Quantity 5.014647e+10 solMass>"
      ]
     },
     "execution_count": 13,
     "metadata": {},
     "output_type": "execute_result"
    }
   ],
   "source": [
    "# Minimum mass of the LMC\n",
    "LMCJacobiMass = JacobiMass(SizeL,DistL,MassMW50)\n",
    "LMCJacobiMass"
   ]
  },
  {
   "cell_type": "markdown",
   "metadata": {},
   "source": [
    "## #3\n",
    "\n",
    "Recall that, ignoring centrifugal forces and assuming the host is a point mass, the tidal radius is given as :\n",
    "\n",
    "$r_{tide} = r\\left (\\frac{m_{sat}}{4M_{host} } \\right)^{1/3} $\n",
    "\n",
    "Create a function to determine the total mass the must LMC possess to have a disk with radius 18.5 kpc.\n",
    "\n",
    "The function should take as input, the current size of the satellite (kpc), this distnce ot the host(kpc) and the mass of the host (in Msun)\n",
    "\n",
    "Use the function to determine the needed LMC mass and store it as a variable called `LMCTidalMass`. "
   ]
  },
  {
   "cell_type": "code",
   "execution_count": null,
   "metadata": {
    "collapsed": true
   },
   "outputs": [],
   "source": []
  },
  {
   "cell_type": "markdown",
   "metadata": {},
   "source": [
    "## #4\n",
    "\n",
    "Compare `LMCTidalMass` to the calculation using the Jacobi Radius.\n",
    "\n",
    "How does the total mass of the LMC compare to its stellar mass (M$_\\ast = 3 \\times 10^9$ M$_\\odot$)? \n"
   ]
  },
  {
   "cell_type": "code",
   "execution_count": 15,
   "metadata": {},
   "outputs": [],
   "source": [
    "# Stellar Mass of the LMC\n",
    "LMCstar = 3e9*u.Msun\n"
   ]
  },
  {
   "cell_type": "code",
   "execution_count": 16,
   "metadata": {},
   "outputs": [
    {
     "data": {
      "text/latex": [
       "$16.71549 \\; \\mathrm{}$"
      ],
      "text/plain": [
       "<Quantity 16.71549>"
      ]
     },
     "execution_count": 16,
     "metadata": {},
     "output_type": "execute_result"
    }
   ],
   "source": [
    "LMCJacobiMass/LMCstar"
   ]
  },
  {
   "cell_type": "markdown",
   "metadata": {
    "collapsed": true
   },
   "source": [
    "# Part C: Consistency Check\n",
    "\n",
    "\n",
    "The maximal enclosed mass of the LMC at any radius can be determined by assuming a flat rotation curve. \n",
    "\n",
    "$V_c^2 = \\frac{G M}{r} = constant$\n",
    " \n",
    " The rotation curve of the LMC is observed to flatten at a value of 91.7 +/- 18.8 km/s  (van der Marel & Kallivayalil 2014 ApJ 781)\n",
    "  (note that 1 kpc/Gyr $\\sim$ 1 km/s). \n",
    "  \n",
    "   Create a function called `MaxMass` that takes as input Vc (km/s) and distance to from the center of the galaxy (r) and returns the maximal dynamical mass in Msun. \n",
    " \n"
   ]
  },
  {
   "cell_type": "code",
   "execution_count": 17,
   "metadata": {},
   "outputs": [],
   "source": [
    "# gravitational constant in units of kpc^3/Gyr^2/Msun\n",
    "G = 4.498768e-6*u.kpc**3/u.Gyr**2/u.Msun"
   ]
  },
  {
   "cell_type": "code",
   "execution_count": 18,
   "metadata": {},
   "outputs": [],
   "source": [
    "# Function that returns the maximal mass of a satellite assuming a flat rotation curve \n",
    "def MaxMass(Vc, Size):\n",
    "    return Vc**2 *Size/G"
   ]
  },
  {
   "cell_type": "markdown",
   "metadata": {},
   "source": [
    "  \n",
    "## #1  \n",
    "Compute the maximal mass enclosed by the LMC within the observed radius. Store it as a variable called `LMCMassMax`. "
   ]
  },
  {
   "cell_type": "code",
   "execution_count": 19,
   "metadata": {},
   "outputs": [
    {
     "data": {
      "text/latex": [
       "$3.4579348 \\times 10^{10} \\; \\mathrm{\\frac{Gyr^{2}\\,km^{2}\\,M_{\\odot}}{kpc^{2}\\,s^{2}}}$"
      ],
      "text/plain": [
       "<Quantity 3.45793482e+10 Gyr2 km2 solMass / (kpc2 s2)>"
      ]
     },
     "execution_count": 19,
     "metadata": {},
     "output_type": "execute_result"
    }
   ],
   "source": [
    "LMCMassMax = MaxMass(91.7*u.km/u.s,18.5*u.kpc)\n",
    "LMCMassMax"
   ]
  },
  {
   "cell_type": "markdown",
   "metadata": {},
   "source": [
    "## #2\n",
    "\n",
    "Is `LMCMassMax` consistent with `LMCMassMin`, the minimum mass needed to explain the observed radius of the LMC given the tidal field of the MW? If not, how can the numbers be reconciled?"
   ]
  },
  {
   "cell_type": "code",
   "execution_count": 22,
   "metadata": {},
   "outputs": [
    {
     "data": {
      "text/latex": [
       "$3.03918 \\times 10^{10} \\; \\mathrm{M_{\\odot}}$"
      ],
      "text/plain": [
       "<Quantity 3.03918e+10 solMass>"
      ]
     },
     "execution_count": 22,
     "metadata": {},
     "output_type": "execute_result"
    }
   ],
   "source": [
    "JacobiMass(SizeL, DistL, 3e11*u.Msun)\n"
   ]
  },
  {
   "cell_type": "code",
   "execution_count": null,
   "metadata": {},
   "outputs": [],
   "source": []
  }
 ],
 "metadata": {
  "kernelspec": {
   "display_name": "Python 3",
   "language": "python",
   "name": "python3"
  },
  "language_info": {
   "codemirror_mode": {
    "name": "ipython",
    "version": 3
   },
   "file_extension": ".py",
   "mimetype": "text/x-python",
   "name": "python",
   "nbconvert_exporter": "python",
   "pygments_lexer": "ipython3",
   "version": "3.7.4"
  }
 },
 "nbformat": 4,
 "nbformat_minor": 2
}
